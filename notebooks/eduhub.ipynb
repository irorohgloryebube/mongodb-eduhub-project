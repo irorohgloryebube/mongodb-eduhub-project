{
 "cells": [
  {
   "cell_type": "markdown",
   "id": "5e070593",
   "metadata": {},
   "source": [
    "## Importing Libraries and Modules\n",
    "\n",
    "I began by importing the necessary libraries and modules that will be used throughout the project:\n",
    "\n",
    "- `MongoClient`: Connects to MongoDB.\n",
    "- `ReturnDocument`: Used in `find_one_and_update()` to return updated docs.\n",
    "- `time, functools`: Timing, delays, decorators (e.g. retries).\n",
    "- `re`: Regex for search queries.\n",
    "- `datetime, timedelta`: Handles time logic (e.g. deadlines).\n",
    "- `ObjectId`: Works with MongoDB `_id` fields.\n",
    "- `Faker`: Generates fake data for testing (users, courses).\n",
    "- `random, choice`: Adds randomness (e.g. assign courses randomly).\n",
    "- `pprint`: Nicely formats output for debugging.\n",
    "- `uuid`: Creates unique IDs for fields like `courseId`, `assignmentId`.\n",
    "- `WriteError, DuplicateKeyError`: Catches specific MongoDB write issues.\n"
   ]
  },
  {
   "cell_type": "code",
   "execution_count": null,
   "id": "31705c86",
   "metadata": {},
   "outputs": [],
   "source": [
    "\n",
    "from pymongo.collection import ReturnDocument  \n",
    "import time, functools\n",
    "import re \n",
    "from pymongo import MongoClient\n",
    "from datetime import datetime , timedelta\n",
    "from bson.objectid import ObjectId\n",
    "from faker import Faker \n",
    "import random\n",
    "from pprint import pprint\n",
    "from random import choice\n",
    "import uuid\n",
    "from pymongo.errors import (\n",
    "     WriteError,DuplicateKeyError\n",
    ")"
   ]
  },
  {
   "cell_type": "code",
   "execution_count": 3,
   "id": "e5e675e5",
   "metadata": {},
   "outputs": [],
   "source": [
    "def get_db(uri=\"mongodb://localhost:27017/\", db_name=\"eduhub_db\"):\n",
    "    \"\"\"Return a MongoDB database handle.\"\"\"\n",
    "    return MongoClient(uri)[db_name]\n",
    "\n",
    "db = get_db()\n",
    "\n"
   ]
  },
  {
   "cell_type": "code",
   "execution_count": 4,
   "id": "27fd4249",
   "metadata": {},
   "outputs": [],
   "source": [
    "fake = Faker()\n",
    "client = MongoClient('mongodb://localhost:27017')"
   ]
  },
  {
   "cell_type": "code",
   "execution_count": 5,
   "id": "7c5371c2",
   "metadata": {},
   "outputs": [
    {
     "data": {
      "text/plain": [
       "Database(MongoClient(host=['localhost:27017'], document_class=dict, tz_aware=False, connect=True), 'eduhub_db')"
      ]
     },
     "execution_count": 5,
     "metadata": {},
     "output_type": "execute_result"
    }
   ],
   "source": [
    "db = client['eduhub_db']\n",
    "db"
   ]
  },
  {
   "cell_type": "code",
   "execution_count": 6,
   "id": "aab2772b",
   "metadata": {},
   "outputs": [],
   "source": [
    "# Create collections\n",
    "users_collection = db[\"users\"]\n",
    "courses_collection = db[\"courses\"]\n",
    "enrollments_collection = db[\"enrollments\"]\n",
    "lessons_collection = db[\"lessons\"]\n",
    "assignments_collection = db[\"assignments\"]\n",
    "submissions_collection = db[\"submissions\"]"
   ]
  },
  {
   "cell_type": "markdown",
   "id": "cafa951e",
   "metadata": {},
   "source": [
    "I WILL BE VALIDATING AND INSERTING DATA INTO ALL COLLECTIONS"
   ]
  },
  {
   "cell_type": "code",
   "execution_count": null,
   "id": "391db6b4",
   "metadata": {},
   "outputs": [
    {
     "data": {
      "text/plain": [
       "Collection(Database(MongoClient(host=['localhost:27017'], document_class=dict, tz_aware=False, connect=True), 'eduhub_db'), 'users')"
      ]
     },
     "execution_count": 18,
     "metadata": {},
     "output_type": "execute_result"
    }
   ],
   "source": [
    "## USER VALIDATOR COLLECTION AND SCHEMA\n",
    "\n",
    "user_validator = {\n",
    "    \"$jsonSchema\": {\n",
    "        \"bsonType\": \"object\",\n",
    "        \"required\": [\"userId\", \"email\", \"firstName\", \"lastName\", \"role\", \"dateJoined\", \"profile\", \"isActive\"],\n",
    "        \"properties\": {\n",
    "            \"userId\": {\"bsonType\": \"string\"},\n",
    "            \"email\": {\"bsonType\": \"string\", \"pattern\": \"^.+@.+$\"},\n",
    "            \"firstName\": {\"bsonType\": \"string\"},\n",
    "            \"lastName\": {\"bsonType\": \"string\"},\n",
    "            \"role\": {\"enum\": [\"student\", \"instructor\"]},\n",
    "            \"dateJoined\": {\"bsonType\": \"date\"},\n",
    "            \"profile\": {\n",
    "                \"bsonType\": \"object\",\n",
    "                \"required\": [\"bio\", \"avatar\", \"skills\"],\n",
    "                \"properties\": {\n",
    "                    \"bio\": {\"bsonType\": \"string\"},\n",
    "                    \"avatar\": {\"bsonType\": \"string\"},\n",
    "                    \"skills\": {\n",
    "                        \"bsonType\": \"array\",\n",
    "                        \"items\": {\"bsonType\": \"string\"}\n",
    "                    }\n",
    "                }\n",
    "            },\n",
    "            \"isActive\": {\"bsonType\": \"bool\"}\n",
    "        }\n",
    "    }\n",
    "}\n",
    "\n",
    "# Recreate users collection with the validator\n",
    "db.create_collection(\"users\", validator=user_validator)\n"
   ]
  },
  {
   "cell_type": "code",
   "execution_count": 40,
   "id": "b506161a",
   "metadata": {},
   "outputs": [
    {
     "name": "stdout",
     "output_type": "stream",
     "text": [
      " Inserted 20 users → 15 students & 5 instructors.\n"
     ]
    }
   ],
   "source": [
    "#  Avatar pools\n",
    "student_avatars = [\n",
    "    \"https://i.pravatar.cc/128?img=15\",\n",
    "    \"https://i.pravatar.cc/128?img=22\",\n",
    "    \"https://i.pravatar.cc/128?img=34\",\n",
    "    \"https://i.pravatar.cc/128?img=47\",\n",
    "]\n",
    "\n",
    "instructor_avatars = [\n",
    "    \"https://i.pravatar.cc/128?img=53\",\n",
    "    \"https://i.pravatar.cc/128?img=68\",\n",
    "    \"https://i.pravatar.cc/128?img=72\",\n",
    "    \"https://i.pravatar.cc/128?img=91\",\n",
    "]\n",
    "\n",
    "#  Bios & skills\n",
    "bio = [\n",
    "  \"Just a chill person who loves good food, long walks, and binge‑watching documentaries on weekends. Always down for spontaneous adventures.\",\n",
    "  \"Coffee lover , bookworm , and part‑time plant parent. Life’s messy but I’m vibing through it.\",\n",
    "  \"Trying to figure out adulthood one day at a time. I cook, I nap, and I listen to way too many true crime podcasts.\",\n",
    "  \"I like rainy days, loud music, and people who laugh at their own jokes. Currently learning how to not kill my houseplants.\",\n",
    "  \"Small‑town soul with big‑city dreams. I believe in kindness, good playlists, and late‑night deep talks.\",\n",
    "  \"Dog lover , taco enthusiast , and someone who presses 'snooze' way too often. Living life soft and slow.\"\n",
    "]\n",
    "\n",
    "skills = [\"python\", \"java\", \"power bi\", \"mongodb\", \"cloud computing\", \"docker\"]\n",
    "\n",
    "# 15 students + 5 instructors\n",
    "roles = [\"student\"] * 15 + [\"instructor\"] * 5\n",
    "random.shuffle(roles)        # randomize the order a bit\n",
    "\n",
    "users = []\n",
    "student_idx = instructor_idx = 0\n",
    "\n",
    "for role in roles:\n",
    "    avatar_url = (\n",
    "        student_avatars[student_idx % len(student_avatars)]\n",
    "        if role == \"student\"\n",
    "        else instructor_avatars[instructor_idx % len(instructor_avatars)]\n",
    "    )\n",
    "\n",
    "    # Increment whichever pointer we used\n",
    "    if role == \"student\":\n",
    "        student_idx += 1\n",
    "    else:\n",
    "        instructor_idx += 1\n",
    "\n",
    "    users.append({\n",
    "        \"_id\": ObjectId(), \n",
    "        \"userId\": str(uuid.uuid4()),\n",
    "        \"email\": fake.unique.email(),\n",
    "        \"firstName\": fake.first_name(),\n",
    "        \"lastName\": fake.last_name(),\n",
    "        \"role\": role,\n",
    "        \"dateJoined\": fake.date_time_between(start_date=\"-1y\", end_date=\"now\"),\n",
    "        \"profile\": {\n",
    "            \"bio\": random.choice(bio),\n",
    "            \"avatar\": avatar_url,\n",
    "            \"skills\": random.sample(skills, k=random.randint(1, 3))\n",
    "        },\n",
    "        \"isActive\": True\n",
    "    })\n",
    "\n",
    "#  Insert into MongoDB\n",
    "insert_result = db.users.insert_many(users)\n",
    "print(f\" Inserted {len(insert_result.inserted_ids)} users → \"\n",
    "      f\"{roles.count('student')} students & {roles.count('instructor')} instructors.\")\n"
   ]
  },
  {
   "cell_type": "code",
   "execution_count": null,
   "id": "2d1d3a2a",
   "metadata": {},
   "outputs": [
    {
     "data": {
      "text/plain": [
       "Collection(Database(MongoClient(host=['localhost:27017'], document_class=dict, tz_aware=False, connect=True), 'eduhub_db'), 'courses')"
      ]
     },
     "execution_count": 45,
     "metadata": {},
     "output_type": "execute_result"
    }
   ],
   "source": [
    "## COURSE VALIDATOR COLLECTION AND SCHEMA\n",
    "\n",
    "# Drop old collection if it exists\n",
    "db.drop_collection(\"courses\")\n",
    "\n",
    "# Validation schema\n",
    "course_validator = {\n",
    "    \"$jsonSchema\": {\n",
    "        \"bsonType\": \"object\",\n",
    "        \"required\": [\"courseId\", \"title\", \"instructorId\", \"level\", \"category\", \"createdAt\", \"isPublished\"],\n",
    "        \"properties\": {\n",
    "            \"courseId\": {\"bsonType\": \"string\"},\n",
    "            \"title\": {\"bsonType\": \"string\"},\n",
    "            \"description\": {\"bsonType\": \"string\"},\n",
    "            \"instructorId\": {\"bsonType\": \"string\"},\n",
    "            \"category\": {\"bsonType\": \"string\"},\n",
    "            \"level\": {\"enum\": [\"beginner\", \"intermediate\", \"advanced\"]},\n",
    "            \"duration\": {\"bsonType\": \"double\"},\n",
    "            \"price\": {\"bsonType\": \"double\"},\n",
    "            \"tags\": {\n",
    "                \"bsonType\": \"array\",\n",
    "                \"items\": {\"bsonType\": \"string\"}\n",
    "            },\n",
    "            \"createdAt\": {\"bsonType\": \"date\"},\n",
    "            \"updatedAt\": {\"bsonType\": \"date\"},\n",
    "            \"isPublished\": {\"bsonType\": \"bool\"}\n",
    "        }\n",
    "    }\n",
    "}\n",
    "\n",
    "# Create collection with validator\n",
    "db.create_collection(\"courses\", validator=course_validator)\n"
   ]
  },
  {
   "cell_type": "code",
   "execution_count": 46,
   "id": "0027fb28",
   "metadata": {},
   "outputs": [
    {
     "name": "stdout",
     "output_type": "stream",
     "text": [
      " 8 courses inserted with proper timestamps!\n"
     ]
    },
    {
     "name": "stderr",
     "output_type": "stream",
     "text": [
      "C:\\Users\\HP\\AppData\\Local\\Temp\\ipykernel_7572\\3333011845.py:44: DeprecationWarning: datetime.datetime.utcnow() is deprecated and scheduled for removal in a future version. Use timezone-aware objects to represent datetimes in UTC: datetime.datetime.now(datetime.UTC).\n",
      "  \"createdAt\": datetime.utcnow(),\n",
      "C:\\Users\\HP\\AppData\\Local\\Temp\\ipykernel_7572\\3333011845.py:45: DeprecationWarning: datetime.datetime.utcnow() is deprecated and scheduled for removal in a future version. Use timezone-aware objects to represent datetimes in UTC: datetime.datetime.now(datetime.UTC).\n",
      "  \"updatedAt\": datetime.utcnow(),\n"
     ]
    }
   ],
   "source": [
    "course_categories = [\"data engineering\", \"data science\", \"artificial intelligence\", \"data analysis\", \"cybersecurity\"]\n",
    "levels = [\"beginner\", \"intermediate\", \"advanced\"]\n",
    "tags = [\"project based\", \"career ready\", \"mentor supported\", \"interactive\", \"quiz-included\"]\n",
    "titles = [\n",
    "    \"Mastering Python for Data Science\",\n",
    "    \"Fullstack Data Engineering Bootcamp\",\n",
    "    \"AI Foundations with TensorFlow\",\n",
    "    \"Power BI Essentials\",\n",
    "    \"Cloud Computing Basics\",\n",
    "    \"Cybersecurity for Beginners\",\n",
    "    \"Docker Mastery\",\n",
    "    \"Intro to MongoDB\"\n",
    "]\n",
    "\n",
    "descriptions = [\n",
    "    \"An immersive course covering everything you need to start your journey.\",\n",
    "    \"Learn by building real-world projects in this hands-on course.\",\n",
    "    \"Get mentorship and interactive lessons tailored to your learning pace.\",\n",
    "    \"Your pathway to becoming career-ready in under 10 weeks!\",\n",
    "    \"Explore the tools and workflows used by professionals.\",\n",
    "    \"Quiz-based learning for deep skill retention and feedback.\",\n",
    "    \"Build, ship, and run apps using Docker like a pro!\",\n",
    "    \"Hands-on guide to managing and querying NoSQL databases.\"\n",
    "]\n",
    "\n",
    "instructors = list(db.users.find({\"role\": \"instructor\"}))\n",
    "if not instructors:\n",
    "    raise ValueError(\"No instructors found – seed users first!\")\n",
    "\n",
    "courses = []\n",
    "for i in range(8):\n",
    "    inst = random.choice(instructors)\n",
    "    courses.append({\n",
    "        \"_id\": ObjectId(),\n",
    "        \"courseId\": str(uuid.uuid4()),\n",
    "        \"title\": titles[i],\n",
    "        \"description\": descriptions[i],\n",
    "        \"instructorId\": inst[\"userId\"],\n",
    "        \"category\": random.choice(course_categories),\n",
    "        \"level\": random.choice(levels),\n",
    "        \"duration\": round(random.uniform(5, 20), 2),\n",
    "        \"price\": round(random.uniform(49.99, 299.99), 2),\n",
    "        \"tags\": random.sample(tags, k=random.randint(2, 4)),\n",
    "        \"createdAt\": datetime.utcnow(),    \n",
    "        \"updatedAt\": datetime.utcnow(),      \n",
    "        \"isPublished\": random.choice([True, False])\n",
    "    })\n",
    "\n",
    "db.courses.insert_many(courses)\n",
    "print(\" 8 courses inserted with proper timestamps!\")\n"
   ]
  },
  {
   "cell_type": "markdown",
   "id": "8e8908eb",
   "metadata": {},
   "source": [
    "enrolment"
   ]
  },
  {
   "cell_type": "code",
   "execution_count": null,
   "id": "84fe97ad",
   "metadata": {},
   "outputs": [
    {
     "data": {
      "text/plain": [
       "Collection(Database(MongoClient(host=['localhost:27017'], document_class=dict, tz_aware=False, connect=True), 'eduhub_db'), 'enrollments')"
      ]
     },
     "execution_count": 21,
     "metadata": {},
     "output_type": "execute_result"
    }
   ],
   "source": [
    "## ENROLLMENT VALIDATOR COLLECTION AND SCHEMA\n",
    "db.create_collection(\"enrollments\", validator={\n",
    "    \"$jsonSchema\": {\n",
    "        \"bsonType\": \"object\",\n",
    "        \"required\": [\"enrollmentId\", \"studentId\", \"courseId\", \"enrolledAt\", \"progress\", \"isActive\"],\n",
    "        \"properties\": {\n",
    "            \"enrollmentId\": {\"bsonType\": \"string\"},\n",
    "            \"studentId\": {\"bsonType\": \"string\"},\n",
    "            \"courseId\": {\"bsonType\": \"string\"},\n",
    "            \"enrolledAt\": {\"bsonType\": \"date\"},\n",
    "            \"progress\": {\"bsonType\": \"double\"},\n",
    "            \"isActive\": {\"bsonType\": \"bool\"}\n",
    "        }\n",
    "    }\n",
    "})\n"
   ]
  },
  {
   "cell_type": "code",
   "execution_count": null,
   "id": "25954cf4",
   "metadata": {},
   "outputs": [
    {
     "name": "stdout",
     "output_type": "stream",
     "text": [
      " Inserted  15 enrollments.\n"
     ]
    },
    {
     "name": "stderr",
     "output_type": "stream",
     "text": [
      "C:\\Users\\HP\\AppData\\Local\\Temp\\ipykernel_18404\\486366679.py:15: DeprecationWarning: datetime.datetime.utcnow() is deprecated and scheduled for removal in a future version. Use timezone-aware objects to represent datetimes in UTC: datetime.datetime.now(datetime.UTC).\n",
      "  \"enrolledAt\": datetime.utcnow(),\n"
     ]
    }
   ],
   "source": [
    "students = list(db.users.find({\"role\": \"student\"}))\n",
    "courses = list(db.courses.find({}))\n",
    "\n",
    "enrollments = []\n",
    "\n",
    "for _ in range(15):\n",
    "    student = random.choice(students)\n",
    "    course = random.choice(courses)\n",
    "    \n",
    "    enrollments.append({\n",
    "        \"_id\": ObjectId(),\n",
    "        \"enrollmentId\": str(uuid.uuid4()),\n",
    "        \"studentId\": student[\"userId\"],\n",
    "        \"courseId\": course[\"courseId\"],\n",
    "        \"enrolledAt\": datetime.utcnow(),\n",
    "        \"progress\": round(random.uniform(0.0, 1.0), 2),\n",
    "        \"isActive\": random.choice([True, False])\n",
    "    })\n",
    "\n",
    "db.enrollments.insert_many(enrollments)\n",
    "print(\" Inserted  15 enrollments.\")\n"
   ]
  },
  {
   "cell_type": "markdown",
   "id": "81207fdf",
   "metadata": {},
   "source": [
    "lessons"
   ]
  },
  {
   "cell_type": "code",
   "execution_count": null,
   "id": "66beb5b0",
   "metadata": {},
   "outputs": [
    {
     "data": {
      "text/plain": [
       "Collection(Database(MongoClient(host=['localhost:27017'], document_class=dict, tz_aware=False, connect=True), 'eduhub_db'), 'lessons')"
      ]
     },
     "execution_count": 24,
     "metadata": {},
     "output_type": "execute_result"
    }
   ],
   "source": [
    "## LESON VALIDATOR COLLECTION AND SCHEMA\n",
    "\n",
    "db.create_collection(\"lessons\", validator={\n",
    "    \"$jsonSchema\": {\n",
    "        \"bsonType\": \"object\",\n",
    "        \"required\": [\"lessonId\", \"courseId\", \"title\", \"content\", \"videoUrl\", \"duration\", \"order\", \"createdAt\"],\n",
    "        \"properties\": {\n",
    "            \"lessonId\": {\"bsonType\": \"string\"},\n",
    "            \"courseId\": {\"bsonType\": \"string\"},\n",
    "            \"title\": {\"bsonType\": \"string\"},\n",
    "            \"content\": {\"bsonType\": \"string\"},\n",
    "            \"videoUrl\": {\"bsonType\": \"string\"},\n",
    "            \"duration\": {\"bsonType\": \"double\"},\n",
    "            \"order\": {\"bsonType\": \"int\"},\n",
    "            \"createdAt\": {\"bsonType\": \"date\"}\n",
    "        }\n",
    "    }\n",
    "})\n"
   ]
  },
  {
   "cell_type": "code",
   "execution_count": null,
   "id": "ab8df546",
   "metadata": {},
   "outputs": [
    {
     "name": "stderr",
     "output_type": "stream",
     "text": [
      "C:\\Users\\HP\\AppData\\Local\\Temp\\ipykernel_18404\\44701402.py:47: DeprecationWarning: datetime.datetime.utcnow() is deprecated and scheduled for removal in a future version. Use timezone-aware objects to represent datetimes in UTC: datetime.datetime.now(datetime.UTC).\n",
      "  \"createdAt\": datetime.utcnow()\n"
     ]
    },
    {
     "data": {
      "text/plain": [
       "InsertManyResult([ObjectId('684bcaddb76e170c1fd03ed4'), ObjectId('684bcaddb76e170c1fd03ed5'), ObjectId('684bcaddb76e170c1fd03ed6'), ObjectId('684bcaddb76e170c1fd03ed7'), ObjectId('684bcaddb76e170c1fd03ed8'), ObjectId('684bcaddb76e170c1fd03ed9'), ObjectId('684bcaddb76e170c1fd03eda'), ObjectId('684bcaddb76e170c1fd03edb'), ObjectId('684bcaddb76e170c1fd03edc'), ObjectId('684bcaddb76e170c1fd03edd'), ObjectId('684bcaddb76e170c1fd03ede'), ObjectId('684bcaddb76e170c1fd03edf'), ObjectId('684bcaddb76e170c1fd03ee0'), ObjectId('684bcaddb76e170c1fd03ee1'), ObjectId('684bcaddb76e170c1fd03ee2'), ObjectId('684bcaddb76e170c1fd03ee3'), ObjectId('684bcaddb76e170c1fd03ee4'), ObjectId('684bcaddb76e170c1fd03ee5'), ObjectId('684bcaddb76e170c1fd03ee6'), ObjectId('684bcaddb76e170c1fd03ee7'), ObjectId('684bcaddb76e170c1fd03ee8'), ObjectId('684bcaddb76e170c1fd03ee9'), ObjectId('684bcaddb76e170c1fd03eea'), ObjectId('684bcaddb76e170c1fd03eeb'), ObjectId('684bcaddb76e170c1fd03eec')], acknowledged=True)"
      ]
     },
     "execution_count": 27,
     "metadata": {},
     "output_type": "execute_result"
    }
   ],
   "source": [
    "\n",
    "#  lesson titles and their matching content\n",
    "lesson_titles_contents = [\n",
    "    (\"Introduction to Data Engineering\", \"Learn what data engineering is, its key concepts, and real-world applications.\"),\n",
    "    (\"Setting Up Your Dev Environment\", \"Walkthrough for installing Python, VS Code, Git, and MongoDB.\"),\n",
    "    (\"Understanding Databases\", \"Dive into relational vs NoSQL databases with real-world examples.\"),\n",
    "    (\"ETL Pipelines Explained\", \"Break down the Extract, Transform, Load process with hands-on demos.\"),\n",
    "    (\"Working with SQL\", \"Write basic to advanced SQL queries for data analysis.\"),\n",
    "    (\"NoSQL with MongoDB\", \"Understand document-based data modeling with MongoDB.\"),\n",
    "    (\"Data Warehousing Basics\", \"Explore star and snowflake schemas, OLAP cubes, and use cases.\"),\n",
    "    (\"Building Data Pipelines\", \"Use Python to create automated and reusable data pipelines.\"),\n",
    "    (\"Data Visualization Tools\", \"Learn to use Power BI and Tableau to build stunning dashboards.\"),\n",
    "    (\"Cloud Storage & BigQuery\", \"Introduction to Google Cloud's BigQuery and cloud storage services.\"),\n",
    "    (\"Scheduling with Airflow\", \"Use Apache Airflow to schedule and monitor data workflows.\"),\n",
    "    (\"Docker for Data Engineering\", \"Containerize your apps using Docker for reproducibility.\"),\n",
    "    (\"Monitoring & Logging\", \"Implement logging and alerting for production data pipelines.\"),\n",
    "    (\"Version Control with Git\", \"Track your changes and collaborate efficiently using Git and GitHub.\"),\n",
    "    (\"Data Quality Checks\", \"Ensure your data is accurate and clean using validation techniques.\"),\n",
    "    (\"Building APIs for Data Access\", \"Create RESTful APIs to share and consume data.\"),\n",
    "    (\"Batch vs Stream Processing\", \"Compare batch vs real-time pipelines with examples.\"),\n",
    "    (\"Using Pandas Like a Pro\", \"Advanced data manipulation and wrangling with Pandas.\"),\n",
    "    (\"Intro to Spark\", \"Use PySpark for distributed data processing.\"),\n",
    "    (\"Capstone Project Kickoff\", \"Plan your final project and define deliverables.\"),\n",
    "    (\"Writing Clean Code\", \"Learn how to write modular, reusable, and readable code.\"),\n",
    "    (\"Error Handling & Debugging\", \"Debugging strategies and best practices in Python.\"),\n",
    "    (\"Deploying to the Cloud\", \"Deploy your pipelines and dashboards to GCP/AWS.\"),\n",
    "    (\"Review & Optimization\", \"Refactor pipelines for better performance and scalability.\"),\n",
    "    (\"Final Presentation Tips\", \"How to present your project clearly and professionally.\")\n",
    "]\n",
    "\n",
    "# Pull courses from database\n",
    "courses = list(db.courses.find({}))\n",
    "\n",
    "lessons = []\n",
    "order_counter = 1\n",
    "for i in range(25):\n",
    "    course = random.choice(courses)\n",
    "    title, content = lesson_titles_contents[i]  # structured title & content\n",
    "    lesson = {\n",
    "        \"_id\": ObjectId(),\n",
    "        \"lessonId\": str(uuid.uuid4()),\n",
    "        \"courseId\": course[\"courseId\"],\n",
    "        \"title\": title,\n",
    "        \"content\": content,\n",
    "        \"videoUrl\": f\"https://educontent.fakevideos.com/vid-{uuid.uuid4()}\",\n",
    "        \"duration\": round(random.uniform(5.0, 25.0), 2),\n",
    "        \"order\": order_counter,\n",
    "        \"createdAt\": datetime.utcnow()\n",
    "    }\n",
    "    order_counter += 1\n",
    "    lessons.append(lesson)\n",
    "\n",
    "# Insert into MongoDB\n",
    "db.lessons.insert_many(lessons)\n"
   ]
  },
  {
   "cell_type": "markdown",
   "id": "c7d48e0b",
   "metadata": {},
   "source": [
    "assignment"
   ]
  },
  {
   "cell_type": "code",
   "execution_count": null,
   "id": "0c75eeeb",
   "metadata": {},
   "outputs": [
    {
     "data": {
      "text/plain": [
       "InsertManyResult([ObjectId('684bcc41b76e170c1fd03eed'), ObjectId('684bcc41b76e170c1fd03eee'), ObjectId('684bcc41b76e170c1fd03eef'), ObjectId('684bcc41b76e170c1fd03ef0'), ObjectId('684bcc41b76e170c1fd03ef1'), ObjectId('684bcc41b76e170c1fd03ef2'), ObjectId('684bcc41b76e170c1fd03ef3'), ObjectId('684bcc41b76e170c1fd03ef4'), ObjectId('684bcc41b76e170c1fd03ef5'), ObjectId('684bcc41b76e170c1fd03ef6')], acknowledged=True)"
      ]
     },
     "execution_count": 28,
     "metadata": {},
     "output_type": "execute_result"
    }
   ],
   "source": [
    "# ## ASSIGNMENT VALIDATOR COLLECTION AND SCHEMA\n",
    "\n",
    "db.create_collection(\"assignments\", validator={\n",
    "    \"$jsonSchema\": {\n",
    "        \"bsonType\": \"object\",\n",
    "        \"required\": [\n",
    "            \"assignmentId\", \"courseId\", \"title\", \"description\",\n",
    "            \"dueDate\", \"maxScore\", \"createdAt\", \"updatedAt\", \"isActive\"\n",
    "        ],\n",
    "        \"properties\": {\n",
    "            \"assignmentId\": {\"bsonType\": \"string\"},\n",
    "            \"courseId\": {\"bsonType\": \"string\"},\n",
    "            \"title\": {\"bsonType\": \"string\"},\n",
    "            \"description\": {\"bsonType\": \"string\"},\n",
    "            \"dueDate\": {\"bsonType\": \"date\"},\n",
    "            \"maxScore\": {\"bsonType\": \"int\"},\n",
    "            \"createdAt\": {\"bsonType\": \"date\"},\n",
    "            \"updatedAt\": {\"bsonType\": \"date\"},\n",
    "            \"isActive\": {\"bsonType\": \"bool\"}\n",
    "        }\n",
    "    }\n",
    "})\n",
    "\n",
    "#  Sample titles & descriptions\n",
    "assignment_titles = [\n",
    "    \"Data Cleaning Challenge\",\n",
    "    \"Build a REST API with Flask\",\n",
    "    \"Exploratory Data Analysis (EDA)\",\n",
    "    \"TensorFlow Model Training\",\n",
    "    \"Power BI Dashboard Project\",\n",
    "    \"Cloud Deployment Exercise\",\n",
    "    \"Security Risk Assessment\",\n",
    "    \"Containerization with Docker\",\n",
    "    \"MongoDB Aggregation Pipeline\",\n",
    "    \"Capstone Project Proposal\"\n",
    "]\n",
    "\n",
    "assignment_descriptions = [\n",
    "    \"Clean and preprocess a raw dataset using Python and Pandas.\",\n",
    "    \"Develop a basic REST API that performs CRUD operations.\",\n",
    "    \"Perform EDA on a dataset and generate visualizations.\",\n",
    "    \"Train and evaluate a neural network using TensorFlow.\",\n",
    "    \"Create an interactive dashboard showing business metrics.\",\n",
    "    \"Deploy a simple web app using a cloud platform of your choice.\",\n",
    "    \"Identify and assess common cybersecurity vulnerabilities.\",\n",
    "    \"Package and run a Python app using Docker containers.\",\n",
    "    \"Use MongoDB's aggregation framework to summarize data.\",\n",
    "    \"Write a proposal for your final course project.\"\n",
    "]\n",
    "\n",
    "#  Get courses\n",
    "courses = list(db.courses.find({}))\n",
    "\n",
    "#  Generate assignment docs\n",
    "assignments = []\n",
    "\n",
    "for i in range(10):\n",
    "    course = random.choice(courses)\n",
    "    assignment = {\n",
    "        \"_id\": ObjectId(),\n",
    "        \"assignmentId\": str(uuid.uuid4()),\n",
    "        \"courseId\": course[\"courseId\"],\n",
    "        \"title\": assignment_titles[i],\n",
    "        \"description\": assignment_descriptions[i],\n",
    "        \"dueDate\": datetime.now() + timedelta(days=random.randint(7, 21)),\n",
    "        \"maxScore\": random.choice([50, 75, 100]),\n",
    "        \"createdAt\": datetime.now(),\n",
    "        \"updatedAt\": datetime.now(),\n",
    "        \"isActive\": random.choice([True, False])\n",
    "    }\n",
    "    assignments.append(assignment)\n",
    "\n",
    "#  Insert into collection\n",
    "db.assignments.insert_many(assignments)\n"
   ]
  },
  {
   "cell_type": "markdown",
   "id": "dee55458",
   "metadata": {},
   "source": [
    "assignment submission"
   ]
  },
  {
   "cell_type": "code",
   "execution_count": null,
   "id": "10957fc0",
   "metadata": {},
   "outputs": [
    {
     "data": {
      "text/plain": [
       "Collection(Database(MongoClient(host=['localhost:27017'], document_class=dict, tz_aware=False, connect=True), 'eduhub_db'), 'submissions')"
      ]
     },
     "execution_count": 29,
     "metadata": {},
     "output_type": "execute_result"
    }
   ],
   "source": [
    "\n",
    "## ASSIGNMENT SUBMISSION VALIDATOR COLLECTION AND SCHEMA\n",
    "\n",
    "# JSON Schema validator\n",
    "submission_validator = {\n",
    "    \"$jsonSchema\": {\n",
    "        \"bsonType\":  \"object\",\n",
    "        \"required\": [\n",
    "            \"submissionId\", \"assignmentId\", \"studentId\",\n",
    "            \"submittedAt\", \"contentUrl\", \"grade\", \"feedback\",\n",
    "            \"isLate\", \"createdAt\", \"updatedAt\"\n",
    "        ],\n",
    "        \"properties\": {\n",
    "            \"submissionId\": {\"bsonType\": \"string\"},\n",
    "            \"assignmentId\": {\"bsonType\": \"string\"},\n",
    "            \"studentId\":   {\"bsonType\": \"string\"},\n",
    "            \"submittedAt\": {\"bsonType\": \"date\"},\n",
    "            \"contentUrl\":  {\"bsonType\": \"string\"},\n",
    "            \"grade\":       {\"bsonType\": [\"int\", \"null\"]},\n",
    "            \"feedback\":    {\"bsonType\": [\"string\", \"null\"]},\n",
    "            \"isLate\":      {\"bsonType\": \"bool\"},\n",
    "            \"createdAt\":   {\"bsonType\": \"date\"},\n",
    "            \"updatedAt\":   {\"bsonType\": \"date\"}\n",
    "        }\n",
    "    }\n",
    "}\n",
    "\n",
    "db.create_collection(\"submissions\", validator=submission_validator)\n"
   ]
  },
  {
   "cell_type": "code",
   "execution_count": null,
   "id": "d0cab24c",
   "metadata": {},
   "outputs": [
    {
     "name": "stdout",
     "output_type": "stream",
     "text": [
      " Inserted exactly 12 assignment submissions!\n"
     ]
    },
    {
     "name": "stderr",
     "output_type": "stream",
     "text": [
      "C:\\Users\\HP\\AppData\\Local\\Temp\\ipykernel_18404\\422449135.py:25: DeprecationWarning: datetime.datetime.utcnow() is deprecated and scheduled for removal in a future version. Use timezone-aware objects to represent datetimes in UTC: datetime.datetime.now(datetime.UTC).\n",
      "  \"createdAt\":    datetime.utcnow(),\n",
      "C:\\Users\\HP\\AppData\\Local\\Temp\\ipykernel_18404\\422449135.py:26: DeprecationWarning: datetime.datetime.utcnow() is deprecated and scheduled for removal in a future version. Use timezone-aware objects to represent datetimes in UTC: datetime.datetime.now(datetime.UTC).\n",
      "  \"updatedAt\":    datetime.utcnow()\n"
     ]
    }
   ],
   "source": [
    "#  grab 10 assignments & students\n",
    "assignments = list(db.assignments.find({}))\n",
    "students    = list(db.users.find({\"role\": \"student\"}))\n",
    "\n",
    "submissions = []\n",
    "\n",
    "for _ in range(12):\n",
    "    assign   = random.choice(assignments)\n",
    "    student  = random.choice(students)\n",
    "\n",
    "    # Simulate a submit time: some on‑time, some late\n",
    "    submit_time = assign[\"dueDate\"] - timedelta(days=random.randint(-2, 4))\n",
    "    is_late     = submit_time > assign[\"dueDate\"]\n",
    "\n",
    "    submissions.append({\n",
    "        \"_id\": ObjectId(),\n",
    "        \"submissionId\": str(uuid.uuid4()),\n",
    "        \"assignmentId\": assign[\"assignmentId\"],\n",
    "        \"studentId\":    student[\"userId\"],\n",
    "        \"submittedAt\":  submit_time,\n",
    "        \"contentUrl\":   f\"https://eduhub.submissions/{uuid.uuid4()}.ipynb\",\n",
    "        \"grade\":        random.choice([None, random.randint(60, 100)]),  # graded or awaiting\n",
    "        \"feedback\":     None,\n",
    "        \"isLate\":       is_late,\n",
    "        \"createdAt\":    datetime.utcnow(),\n",
    "        \"updatedAt\":    datetime.utcnow()\n",
    "    })\n",
    "\n",
    "#  shove into Mongo\n",
    "db.submissions.insert_many(submissions)\n",
    "print(\" Inserted exactly 12 assignment submissions!\")\n"
   ]
  },
  {
   "cell_type": "markdown",
   "id": "9bebe999",
   "metadata": {},
   "source": [
    "CRUDE OPERATION "
   ]
  },
  {
   "cell_type": "code",
   "execution_count": null,
   "id": "2966c52b",
   "metadata": {},
   "outputs": [],
   "source": [
    "\n",
    "\n",
    "\n",
    "# -------------------------------------------------------------------------\n",
    "# 3.1  CREATE OPERATIONS\n",
    "# -------------------------------------------------------------------------\n",
    "\n",
    "def add_student_user(email, first_name, last_name,      #ADD STUDENT USER\n",
    "                     bio=\"\", avatar=\"\", skills=None):\n",
    "    \"\"\"Insert and return _id of a new student user.\"\"\"\n",
    "    skills = skills or []\n",
    "    doc = {\n",
    "        \"_id\": ObjectId(),\n",
    "        \"userId\": str(uuid.uuid4()),\n",
    "        \"email\": email,\n",
    "        \"firstName\": first_name,\n",
    "        \"lastName\": last_name,\n",
    "        \"role\": \"student\",\n",
    "        \"dateJoined\": datetime.utcnow(),\n",
    "        \"profile\": {\"bio\": bio, \"avatar\": avatar, \"skills\": skills},\n",
    "        \"isActive\": True\n",
    "    }\n",
    "    return db.users.insert_one(doc).inserted_id\n",
    "\n",
    "\n",
    "def create_course(title, instructor_id, category,      # CREATE COURSE\n",
    "                  level=\"beginner\", description=\"\",\n",
    "                  duration=10, price=0.0, tags=None):\n",
    "    \"\"\"Insert and return _id of a new course.\"\"\"\n",
    "    tags = tags or []\n",
    "    doc = {\n",
    "        \"_id\": ObjectId(),\n",
    "        \"courseId\": str(uuid.uuid4()),\n",
    "        \"title\": title,\n",
    "        \"description\": description,\n",
    "        \"instructorId\": instructor_id,\n",
    "        \"category\": category,\n",
    "        \"level\": level,\n",
    "        \"duration\": duration,\n",
    "        \"price\": price,\n",
    "        \"tags\": tags,\n",
    "        \"createdAt\": datetime.utcnow(),\n",
    "        \"updatedAt\": datetime.utcnow(),\n",
    "        \"isPublished\": False\n",
    "    }\n",
    "    return db.courses.insert_one(doc).inserted_id\n",
    "\n",
    "\n",
    "def enroll_student_in_course(student_id, course_id):          # ENROLL STUDENT IN COURSE \n",
    "    \"\"\"Insert enrollment; return _id.\"\"\"\n",
    "    doc = {\n",
    "        \"_id\": ObjectId(),\n",
    "        \"enrollmentId\": str(uuid.uuid4()),\n",
    "        \"studentId\": student_id,\n",
    "        \"courseId\": course_id,\n",
    "        \"enrolledAt\": datetime.utcnow(),\n",
    "        \"progress\": 0.0,\n",
    "        \"isActive\": True\n",
    "    }\n",
    "    return db.enrollments.insert_one(doc).inserted_id\n",
    "\n",
    "\n",
    "def add_lesson(course_id, title, content,               #ADD LESSON\n",
    "               video_url=\"\", duration=10.0, order=1):\n",
    "    \"\"\"Insert lesson; return _id.\"\"\"\n",
    "    doc = {\n",
    "        \"_id\": ObjectId(),\n",
    "        \"lessonId\": str(uuid.uuid4()),\n",
    "        \"courseId\": course_id,\n",
    "        \"title\": title,\n",
    "        \"content\": content,\n",
    "        \"videoUrl\": video_url,\n",
    "        \"duration\": duration,\n",
    "        \"order\": order,\n",
    "        \"createdAt\": datetime.utcnow()\n",
    "    }\n",
    "    return db.lessons.insert_one(doc).inserted_id\n",
    "\n"
   ]
  },
  {
   "cell_type": "code",
   "execution_count": null,
   "id": "865b4fe6",
   "metadata": {},
   "outputs": [
    {
     "name": "stdout",
     "output_type": "stream",
     "text": [
      "New student _id: 684ca9e3f3f5cfd4f0605028\n"
     ]
    },
    {
     "name": "stderr",
     "output_type": "stream",
     "text": [
      "C:\\Users\\HP\\AppData\\Local\\Temp\\ipykernel_7572\\2810162183.py:16: DeprecationWarning: datetime.datetime.utcnow() is deprecated and scheduled for removal in a future version. Use timezone-aware objects to represent datetimes in UTC: datetime.datetime.now(datetime.UTC).\n",
      "  \"dateJoined\": datetime.utcnow(),\n"
     ]
    }
   ],
   "source": [
    "\n",
    "\n",
    "#  I EXECUTED THE FUNCTIONS ABOVE IN 3.1\n",
    "# # add new student \n",
    "\n",
    "new_student = add_student_user(\n",
    "    email=\"hinata@vb.com\",\n",
    "    first_name=\"Shoyo\",\n",
    "    last_name=\"Hinata\",\n",
    "    bio=\"pace setter\",\n",
    "    skills=[\"python\"]\n",
    ")\n",
    "\n",
    "print(\"New student _id:\", new_student)\n"
   ]
  },
  {
   "cell_type": "code",
   "execution_count": 17,
   "id": "96ae8cce",
   "metadata": {},
   "outputs": [
    {
     "name": "stdout",
     "output_type": "stream",
     "text": [
      "Instructor  → Carol 0692b018-4c9c-4382-be16-4d738f1a91dd\n",
      "Student     → Leslie ba30237b-2030-43ea-b36c-8f2329f5448f\n",
      "✅ course _id: 684cadf5f3f5cfd4f060502b\n"
     ]
    },
    {
     "name": "stderr",
     "output_type": "stream",
     "text": [
      "C:\\Users\\HP\\AppData\\Local\\Temp\\ipykernel_7572\\2810162183.py:39: DeprecationWarning: datetime.datetime.utcnow() is deprecated and scheduled for removal in a future version. Use timezone-aware objects to represent datetimes in UTC: datetime.datetime.now(datetime.UTC).\n",
      "  \"createdAt\": datetime.utcnow(),\n",
      "C:\\Users\\HP\\AppData\\Local\\Temp\\ipykernel_7572\\2810162183.py:40: DeprecationWarning: datetime.datetime.utcnow() is deprecated and scheduled for removal in a future version. Use timezone-aware objects to represent datetimes in UTC: datetime.datetime.now(datetime.UTC).\n",
      "  \"updatedAt\": datetime.utcnow(),\n"
     ]
    }
   ],
   "source": [
    "# create course \n",
    "#  one instructor & one student to work with\n",
    "instructor = db.users.find_one({\"role\": \"instructor\"})\n",
    "if not instructor:\n",
    "    raise ValueError(\"No instructor found  seed instructors first!\")\n",
    "student = db.users.find_one({\"role\": \"student\", \"isActive\": True})\n",
    "if not student:\n",
    "    raise ValueError(\"No active student found – seed students first!\")\n",
    "\n",
    "instructor_id = instructor[\"userId\"]\n",
    "student_id    = student[\"userId\"]\n",
    "\n",
    "print(\"Instructor  →\", instructor[\"firstName\"], instructor_id)\n",
    "print(\"Student     →\", student[\"firstName\"],    student_id)\n",
    "\n",
    "course_id = create_course(\n",
    "    title=\"Async Programming in Python\",\n",
    "    instructor_id=instructor_id,\n",
    "    category=\"data engineering\",\n",
    "    level=\"intermediate\",\n",
    "    description=\"Master async/await, asyncio, and concurrent Python patterns.\",\n",
    "    duration=12.0,           # ← float, not int\n",
    "    price=49.0,              # already float, but keep one decimal place\n",
    "    tags=[\"interactive\", \"project based\"]\n",
    ")\n",
    "print(\"✅ course _id:\", course_id)\n"
   ]
  },
  {
   "cell_type": "code",
   "execution_count": null,
   "id": "dd3268df",
   "metadata": {},
   "outputs": [],
   "source": []
  },
  {
   "cell_type": "code",
   "execution_count": 21,
   "id": "ccf140e1",
   "metadata": {},
   "outputs": [
    {
     "name": "stdout",
     "output_type": "stream",
     "text": [
      "✅ Enrollment _id: 684cb0b7f3f5cfd4f060502d\n"
     ]
    },
    {
     "name": "stderr",
     "output_type": "stream",
     "text": [
      "C:\\Users\\HP\\AppData\\Local\\Temp\\ipykernel_7572\\2810162183.py:53: DeprecationWarning: datetime.datetime.utcnow() is deprecated and scheduled for removal in a future version. Use timezone-aware objects to represent datetimes in UTC: datetime.datetime.now(datetime.UTC).\n",
      "  \"enrolledAt\": datetime.utcnow(),\n"
     ]
    }
   ],
   "source": [
    "# -------------------------------------------------------------\n",
    "#  enroll_student_in_course  +  add_lesson\n",
    "# -------------------------------------------------------------\n",
    "\n",
    "\n",
    "# fetch fresh course doc so we have the string field\n",
    "course_doc   = db.courses.find_one({\"_id\": course_id})   # course_id is ObjectId\n",
    "courseId_str = course_doc[\"courseId\"]                    # ← this is the string UUID\n",
    "enrollment_id = enroll_student_in_course(\n",
    "    student_id=student_id,       # string\n",
    "    course_id=courseId_str       # string, matches validator\n",
    ")\n",
    "print(\"✅ Enrollment _id:\", enrollment_id)\n",
    "\n",
    "\n"
   ]
  },
  {
   "cell_type": "code",
   "execution_count": null,
   "id": "a380a2ee",
   "metadata": {},
   "outputs": [
    {
     "name": "stdout",
     "output_type": "stream",
     "text": [
      " Lesson _id: 684cb12df3f5cfd4f060502f\n",
      "{'courseId': '1c566c98-0173-465d-b6f8-2662fe995d67',\n",
      " 'lessonId': '497b36a6-8255-43d7-ad79-e88efede7781',\n",
      " 'order': 1,\n",
      " 'title': 'Intro to Async/Await'}\n"
     ]
    },
    {
     "name": "stderr",
     "output_type": "stream",
     "text": [
      "C:\\Users\\HP\\AppData\\Local\\Temp\\ipykernel_7572\\2810162183.py:72: DeprecationWarning: datetime.datetime.utcnow() is deprecated and scheduled for removal in a future version. Use timezone-aware objects to represent datetimes in UTC: datetime.datetime.now(datetime.UTC).\n",
      "  \"createdAt\": datetime.utcnow()\n"
     ]
    }
   ],
   "source": [
    "# -------------------------------------------------------------\n",
    "# Add a lesson (with correct imports & string courseId)\n",
    "# -------------------------------------------------------------\n",
    "\n",
    "# Get the course's string ID, not the ObjectId\n",
    "course_doc   = db.courses.find_one({\"_id\": course_id})\n",
    "courseId_str = course_doc[\"courseId\"]\n",
    "\n",
    "try:\n",
    "    lesson_id = add_lesson(\n",
    "        course_id=courseId_str,                      #  string ID\n",
    "        title=\"Intro to Async/Await\",\n",
    "        content=\"Learn the basics of asynchronous programming in Python using async and await.\",\n",
    "        video_url=\"https://example.com/videos/async-await.mp4\",\n",
    "        duration=8.5,\n",
    "        order=1\n",
    "    )\n",
    "    print(\" Lesson _id:\", lesson_id)\n",
    "\n",
    "    # Pretty‑print the stored lesson\n",
    "    pprint(db.lessons.find_one(\n",
    "        {\"_id\": lesson_id},\n",
    "        {\"_id\": 0, \"lessonId\": 1, \"title\": 1, \"courseId\": 1, \"order\": 1}\n",
    "    ))\n",
    "\n",
    "except WriteError as err:\n",
    "    print(\" Lesson insert failed:\", err.details['errmsg'])\n"
   ]
  },
  {
   "cell_type": "code",
   "execution_count": null,
   "id": "60664704",
   "metadata": {},
   "outputs": [],
   "source": [
    "# -------------------------------------------------------------------------\n",
    "# 3.2  READ OPERATIONS\n",
    "# -------------------------------------------------------------------------\n",
    "\n",
    "def find_active_students():     # FIND ACTIVE STUDENTS\n",
    "    return list(db.users.find({\"role\": \"student\", \"isActive\": True}))\n",
    "\n",
    "\n",
    "def get_course_with_instructor(course_id):  #GET COURSE WITH INSTRUCTOR\n",
    "    \"\"\"Return merged course+instructor doc, or None if not found.\"\"\"\n",
    "    pipeline = [\n",
    "        {\"$match\": {\"courseId\": course_id}},\n",
    "        {\"$lookup\": {\n",
    "            \"from\": \"users\",\n",
    "            \"localField\": \"instructorId\",\n",
    "            \"foreignField\": \"userId\",\n",
    "            \"as\": \"instructor\"}},\n",
    "        {\"$unwind\": \"$instructor\"}\n",
    "    ]\n",
    "    docs = list(db.courses.aggregate(pipeline))\n",
    "    return docs[0] if docs else None       \n",
    "\n",
    "\n",
    "\n",
    "def get_courses_by_category(category):        #GET COURSE BY CATEGORY\n",
    "    return list(db.courses.find({\"category\": category}))\n",
    "\n",
    "\n",
    "def get_students_enrolled(course_id):   #GET STUDENTS ENROLLED\n",
    "    pipeline = [\n",
    "        {\"$match\": {\"courseId\": course_id}},\n",
    "        {\"$lookup\": {\n",
    "            \"from\": \"users\",\n",
    "            \"localField\": \"studentId\",\n",
    "            \"foreignField\": \"userId\",\n",
    "            \"as\": \"student\"}},\n",
    "        {\"$unwind\": \"$student\"},\n",
    "        {\"$replaceRoot\": {\"newRoot\": \"$student\"}}\n",
    "    ]\n",
    "    return list(db.enrollments.aggregate(pipeline))\n",
    "\n",
    "\n",
    "def search_courses_by_title(keyword):       #SEARCH COURSES BY TITLE\n",
    "    regex = re.compile(keyword, re.IGNORECASE)\n",
    "    return list(db.courses.find({\"title\": regex}))\n",
    "\n",
    "\n",
    "\n"
   ]
  },
  {
   "cell_type": "code",
   "execution_count": null,
   "id": "ab8e015d",
   "metadata": {},
   "outputs": [
    {
     "name": "stdout",
     "output_type": "stream",
     "text": [
      "\n",
      "1) Active students count: 15\n",
      "{'_id': ObjectId('684cb8adf3f5cfd4f0605031'),\n",
      " 'dateJoined': datetime.datetime(2024, 10, 21, 6, 53, 52),\n",
      " 'email': 'oallen@example.org',\n",
      " 'firstName': 'Jennifer',\n",
      " 'isActive': True,\n",
      " 'lastName': 'Bishop',\n",
      " 'profile': {'avatar': 'https://i.pravatar.cc/128?img=15',\n",
      "             'bio': 'Small‑town soul with big‑city dreams. I believe in '\n",
      "                    'kindness, good playlists, and late‑night deep talks.',\n",
      "             'skills': ['power bi']},\n",
      " 'role': 'student',\n",
      " 'userId': '9e51079f-adeb-40c7-ae18-056dc0b6f1bb'}\n"
     ]
    }
   ],
   "source": [
    "\n",
    "\n",
    "#  I EXECUTED THE FUNCTIONS ABOVE IN 3.2\n",
    "## -------------------------------------------------------------\n",
    "#  Task 3.2 – READ operations\n",
    "# -------------------------------------------------------------\n",
    "#  find_active_students\n",
    "students = find_active_students()\n",
    "print(\"\\n1) Active students count:\", len(students))\n",
    "if students:\n",
    "    pprint(students[0])   \n",
    "\n"
   ]
  },
  {
   "cell_type": "code",
   "execution_count": 48,
   "id": "f62b92cc",
   "metadata": {},
   "outputs": [
    {
     "name": "stdout",
     "output_type": "stream",
     "text": [
      "{'_id': ObjectId('684cba1ef3f5cfd4f0605045'),\n",
      " 'category': 'cybersecurity',\n",
      " 'courseId': 'b1aaa889-1fe5-4437-98a3-b1607f901ac9',\n",
      " 'createdAt': datetime.datetime(2025, 6, 13, 23, 54, 6, 549000),\n",
      " 'description': 'An immersive course covering everything you need to start '\n",
      "                'your journey.',\n",
      " 'duration': 14.75,\n",
      " 'instructor': {'_id': ObjectId('684cb8adf3f5cfd4f0605040'),\n",
      "                'dateJoined': datetime.datetime(2024, 7, 10, 10, 31, 27),\n",
      "                'email': 'wsimpson@example.net',\n",
      "                'firstName': 'Angela',\n",
      "                'isActive': True,\n",
      "                'lastName': 'Moore',\n",
      "                'profile': {'avatar': 'https://i.pravatar.cc/128?img=91',\n",
      "                            'bio': 'Coffee lover , bookworm , and part‑time '\n",
      "                                   'plant parent. Life’s messy but I’m vibing '\n",
      "                                   'through it.',\n",
      "                            'skills': ['power bi', 'python', 'java']},\n",
      "                'role': 'instructor',\n",
      "                'userId': '9313c03a-d5a7-4047-acdd-d921034b3af5'},\n",
      " 'instructorId': '9313c03a-d5a7-4047-acdd-d921034b3af5',\n",
      " 'isPublished': False,\n",
      " 'level': 'advanced',\n",
      " 'price': 254.19,\n",
      " 'tags': ['mentor supported', 'project based'],\n",
      " 'title': 'Mastering Python for Data Science',\n",
      " 'updatedAt': datetime.datetime(2025, 6, 13, 23, 54, 6, 549000)}\n"
     ]
    }
   ],
   "source": [
    "cid_async = \"b1aaa889-1fe5-4437-98a3-b1607f901ac9\" \n",
    "\n",
    "course_with_teacher = get_course_with_instructor(cid_async)\n",
    "\n",
    "if course_with_teacher:\n",
    "    from pprint import pprint\n",
    "    pprint(course_with_teacher)\n",
    "else:\n",
    "    print(\" No match found – double‑check the courseId string.\")\n",
    "\n",
    "\n",
    "\n"
   ]
  },
  {
   "cell_type": "code",
   "execution_count": 35,
   "id": "3a32f541",
   "metadata": {},
   "outputs": [
    {
     "name": "stdout",
     "output_type": "stream",
     "text": [
      "\n",
      "3) All courses in category: data engineering\n",
      " • Cloud Computing Basics\n",
      " • Async Programming in Python\n"
     ]
    }
   ],
   "source": [
    "category = \"data engineering\"   \n",
    "\n",
    "print(\"\\n3) All courses in category:\", category)\n",
    "for c in get_courses_by_category(category):\n",
    "    print(\" •\", c[\"title\"])\n"
   ]
  },
  {
   "cell_type": "code",
   "execution_count": 51,
   "id": "10cf1276",
   "metadata": {},
   "outputs": [
    {
     "name": "stdout",
     "output_type": "stream",
     "text": [
      "Chosen student → Jennifer 9e51079f-adeb-40c7-ae18-056dc0b6f1bb\n",
      "Chosen course  → Mastering Python for Data Science b1aaa889-1fe5-4437-98a3-b1607f901ac9\n"
     ]
    }
   ],
   "source": [
    "# active student\n",
    "student_doc = db.users.find_one({\"role\": \"student\", \"isActive\": True})\n",
    "if not student_doc:\n",
    "    raise ValueError(\"No active student found!\")\n",
    "\n",
    "student_id_str = student_doc[\"userId\"]\n",
    "\n",
    "# Grab ANY course\n",
    "course_doc = db.courses.find_one({})\n",
    "if not course_doc:\n",
    "    raise ValueError(\"No course found!\")\n",
    "\n",
    "courseId_str = course_doc[\"courseId\"]\n",
    "\n",
    "print(\"Chosen student →\", student_doc[\"firstName\"], student_id_str)\n",
    "print(\"Chosen course  →\", course_doc[\"title\"],  courseId_str)\n",
    "\n"
   ]
  },
  {
   "cell_type": "code",
   "execution_count": 38,
   "id": "cf612928",
   "metadata": {},
   "outputs": [
    {
     "name": "stdout",
     "output_type": "stream",
     "text": [
      "\n",
      "5) Courses whose title contains 'python':\n",
      "  • Mastering Python for Data Science\n",
      "  • Mastering Python for Data Science\n",
      "  • Async Programming in Python\n"
     ]
    }
   ],
   "source": [
    "#  search_courses_by_title\n",
    "keyword = \"python\"   \n",
    "print(f\"\\n5) Courses whose title contains '{keyword}':\")\n",
    "for c in search_courses_by_title(keyword):\n",
    "    print(\"  •\", c[\"title\"])"
   ]
  },
  {
   "cell_type": "code",
   "execution_count": null,
   "id": "1fee18d0",
   "metadata": {},
   "outputs": [],
   "source": [
    "# -------------------------------------------------------------------------\n",
    "# 3.3  UPDATE OPERATIONS\n",
    "# -------------------------------------------------------------------------\n",
    "\n",
    "def update_user_profile(user_id, bio=None, skills=None, avatar=None):  #UPDATE USER PROFILE\n",
    "    updates = {}\n",
    "    if bio is not None:    updates[\"profile.bio\"] = bio\n",
    "    if skills is not None: updates[\"profile.skills\"] = skills\n",
    "    if avatar is not None: updates[\"profile.avatar\"] = avatar\n",
    "    if not updates:\n",
    "        return None\n",
    "    return db.users.find_one_and_update(\n",
    "        {\"userId\": user_id},\n",
    "        {\"$set\": updates},\n",
    "        return_document=ReturnDocument.AFTER\n",
    "    )\n",
    "\n",
    "\n",
    "def publish_course(course_id, publish=True): # PUBLISH COURSE \n",
    "    return db.courses.find_one_and_update(\n",
    "        {\"courseId\": course_id},\n",
    "        {\"$set\": {\"isPublished\": publish,\n",
    "                  \"updatedAt\": datetime.utcnow()}},\n",
    "        return_document=ReturnDocument.AFTER\n",
    "    )\n",
    "\n",
    "\n",
    "def update_submission_grade(submission_id, grade, feedback=None):    #UPDATE SUBMISSION GRADE\n",
    "    updates = {\"grade\": grade, \"updatedAt\": datetime.utcnow()}\n",
    "    if feedback is not None:\n",
    "        updates[\"feedback\"] = feedback\n",
    "    return db.submissions.find_one_and_update(\n",
    "        {\"submissionId\": submission_id},\n",
    "        {\"$set\": updates},\n",
    "        return_document=ReturnDocument.AFTER\n",
    "    )\n",
    "\n",
    "\n",
    "def add_tags_to_course(course_id, tags):  # ADD TAGS TO COURSE\n",
    "    return db.courses.find_one_and_update(\n",
    "        {\"courseId\": course_id},\n",
    "        {\"$addToSet\": {\"tags\": {\"$each\": tags}},\n",
    "         \"$set\": {\"updatedAt\": datetime.utcnow()}},\n",
    "        return_document=ReturnDocument.AFTER\n",
    "    )\n",
    "\n",
    "\n"
   ]
  },
  {
   "cell_type": "code",
   "execution_count": null,
   "id": "ba02c067",
   "metadata": {},
   "outputs": [
    {
     "name": "stdout",
     "output_type": "stream",
     "text": [
      "{'_id': ObjectId('684cb8adf3f5cfd4f0605030'),\n",
      " 'dateJoined': datetime.datetime(2024, 8, 17, 19, 10, 54),\n",
      " 'email': 'ldavis@example.net',\n",
      " 'firstName': 'Ashley',\n",
      " 'isActive': True,\n",
      " 'lastName': 'Williamson',\n",
      " 'profile': {'avatar': 'https://example.com/avatars/leslie.png',\n",
      "             'bio': 'I love learning data engineering!',\n",
      "             'skills': ['MongoDB', 'Python', 'Docker']},\n",
      " 'role': 'instructor',\n",
      " 'userId': '0737f249-4d29-43aa-a604-c10e7c407b68'}\n"
     ]
    }
   ],
   "source": [
    "\n",
    "\n",
    "#  I EXECUTED THE FUNCTIONS ABOVE IN 3.3\n",
    "# # Pick a user (student or instructor)\n",
    "uid = \"0737f249-4d29-43aa-a604-c10e7c407b68\"\n",
    "\n",
    "updated_user = update_user_profile(\n",
    "    user_id=uid,\n",
    "    bio=\"I love learning data engineering!\",\n",
    "    skills=[\"MongoDB\", \"Python\", \"Docker\"],\n",
    "    avatar=\"https://example.com/avatars/leslie.png\"\n",
    ")\n",
    "\n",
    "\n",
    "pprint(updated_user)\n"
   ]
  },
  {
   "cell_type": "code",
   "execution_count": null,
   "id": "d264d514",
   "metadata": {},
   "outputs": [
    {
     "name": "stdout",
     "output_type": "stream",
     "text": [
      "Target courseId: b1aaa889-1fe5-4437-98a3-b1607f901ac9 | title: Mastering Python for Data Science\n",
      "\n",
      "2 Course published? → True\n",
      "{'title': 'Mastering Python for Data Science',\n",
      " 'updatedAt': datetime.datetime(2025, 6, 14, 0, 1, 19, 612000)}\n"
     ]
    },
    {
     "name": "stderr",
     "output_type": "stream",
     "text": [
      "C:\\Users\\HP\\AppData\\Local\\Temp\\ipykernel_7572\\1195962820.py:23: DeprecationWarning: datetime.datetime.utcnow() is deprecated and scheduled for removal in a future version. Use timezone-aware objects to represent datetimes in UTC: datetime.datetime.now(datetime.UTC).\n",
      "  \"updatedAt\": datetime.utcnow()}},\n"
     ]
    }
   ],
   "source": [
    "\n",
    "# -------------------------------------------------------------\n",
    "# 2) Pick or create a course to publish\n",
    "# -------------------------------------------------------------\n",
    "course_doc = db.courses.find_one({\"isPublished\": False})   # any unpublished course\n",
    "if not course_doc:\n",
    "    course_doc = db.courses.find_one()                     \n",
    "    if not course_doc:\n",
    "        raise ValueError(\" No courses exist—seed courses first!\")\n",
    "\n",
    "courseId_str = course_doc[\"courseId\"]\n",
    "print(\"Target courseId:\", courseId_str, \"| title:\", course_doc[\"title\"])\n",
    "\n",
    "# Publish the course\n",
    "updated_course = publish_course(courseId_str, publish=True)\n",
    "print(\"\\n2 Course published? →\", updated_course[\"isPublished\"])\n",
    "pprint({\"title\": updated_course[\"title\"], \"updatedAt\": updated_course[\"updatedAt\"]})\n",
    "\n"
   ]
  },
  {
   "cell_type": "code",
   "execution_count": 53,
   "id": "cd97f5ff",
   "metadata": {},
   "outputs": [
    {
     "name": "stdout",
     "output_type": "stream",
     "text": [
      "\n",
      "✅ Submission graded:\n",
      "{'feedback': 'Excellent work—clean async code!',\n",
      " 'grade': 93,\n",
      " 'submissionId': '44929861-2437-4b5c-9e73-2c9e1e4b0007'}\n"
     ]
    },
    {
     "name": "stderr",
     "output_type": "stream",
     "text": [
      "C:\\Users\\HP\\AppData\\Local\\Temp\\ipykernel_7572\\1195962820.py:29: DeprecationWarning: datetime.datetime.utcnow() is deprecated and scheduled for removal in a future version. Use timezone-aware objects to represent datetimes in UTC: datetime.datetime.now(datetime.UTC).\n",
      "  updates = {\"grade\": grade, \"updatedAt\": datetime.utcnow()}\n"
     ]
    }
   ],
   "source": [
    "\n",
    "# -------------------------------------------------------------\n",
    "# 3) Pick or insert a submission to update\n",
    "# -------------------------------------------------------------\n",
    "submission_doc = db.submissions.find_one({\"grade\": None})   # ungraded submission\n",
    "if not submission_doc:\n",
    "    # Create a dummy submission for demo\n",
    "    student = db.users.find_one({\"role\": \"student\", \"isActive\": True})\n",
    "    assignment = db.assignments.find_one()\n",
    "    submission_doc = {\n",
    "        \"_id\": ObjectId(),\n",
    "        \"submissionId\": str(uuid.uuid4()),\n",
    "        \"assignmentId\": assignment[\"assignmentId\"],\n",
    "        \"studentId\": student[\"userId\"],\n",
    "        \"submittedAt\": datetime.utcnow(),\n",
    "        \"contentUrl\": \"https://example.com/dummy.ipynb\",\n",
    "        \"grade\": None,\n",
    "        \"feedback\": None,\n",
    "        \"isLate\": False,\n",
    "        \"createdAt\": datetime.utcnow(),\n",
    "        \"updatedAt\": datetime.utcnow()\n",
    "    }\n",
    "    db.submissions.insert_one(submission_doc)\n",
    "    print(\"\\n3  Inserted demo submission for grading.\")\n",
    "\n",
    "submission_id_str = submission_doc[\"submissionId\"]\n",
    "\n",
    "# Grade it\n",
    "graded_sub = update_submission_grade(\n",
    "    submission_id=submission_id_str,\n",
    "    grade=93,\n",
    "    feedback=\"Excellent work—clean async code!\"\n",
    ")\n",
    "\n",
    "print(\"\\n✅ Submission graded:\")\n",
    "pprint({\"submissionId\": graded_sub[\"submissionId\"],\n",
    "        \"grade\": graded_sub[\"grade\"],\n",
    "        \"feedback\": graded_sub[\"feedback\"]})\n",
    "\n"
   ]
  },
  {
   "cell_type": "code",
   "execution_count": 54,
   "id": "dd480044",
   "metadata": {},
   "outputs": [
    {
     "name": "stdout",
     "output_type": "stream",
     "text": [
      "\n",
      "4 Updated tags:\n",
      "{'courseId': 'b1aaa889-1fe5-4437-98a3-b1607f901ac9',\n",
      " 'tags': ['mentor supported', 'project based', 'career ready']}\n"
     ]
    },
    {
     "name": "stderr",
     "output_type": "stream",
     "text": [
      "C:\\Users\\HP\\AppData\\Local\\Temp\\ipykernel_7572\\1195962820.py:43: DeprecationWarning: datetime.datetime.utcnow() is deprecated and scheduled for removal in a future version. Use timezone-aware objects to represent datetimes in UTC: datetime.datetime.now(datetime.UTC).\n",
      "  \"$set\": {\"updatedAt\": datetime.utcnow()}},\n"
     ]
    }
   ],
   "source": [
    "\n",
    "# -------------------------------------------------------------\n",
    "# 4) Add tags to the same course\n",
    "# -------------------------------------------------------------\n",
    "new_tags = [\"mentor supported\", \"career ready\"]\n",
    "\n",
    "updated_course = add_tags_to_course(courseId_str, new_tags)\n",
    "\n",
    "print(\"\\n4 Updated tags:\")\n",
    "pprint({\"courseId\": updated_course[\"courseId\"], \"tags\": updated_course[\"tags\"]})\n"
   ]
  },
  {
   "cell_type": "code",
   "execution_count": null,
   "id": "e1e96058",
   "metadata": {},
   "outputs": [],
   "source": [
    "\n",
    "# -------------------------------------------------------------------------\n",
    "# 3.4  DELETE OPERATIONS\n",
    "# -------------------------------------------------------------------------\n",
    "\n",
    "def soft_delete_user(user_id):   #SOFT DELETE\n",
    "    return db.users.find_one_and_update(\n",
    "        {\"userId\": user_id},\n",
    "        {\"$set\": {\"isActive\": False}},\n",
    "        return_document=ReturnDocument.AFTER\n",
    "    )\n",
    "\n",
    "\n",
    "def delete_enrollment(enrollment_id): #DELETE ENROLLMENT\n",
    "    return db.enrollments.delete_one({\"enrollmentId\": enrollment_id}).deleted_count\n",
    "\n",
    "\n",
    "def delete_lesson(lesson_id): #DELETE LESSON\n",
    "    return db.lessons.delete_one({\"lessonId\": lesson_id}).deleted_count\n"
   ]
  },
  {
   "cell_type": "code",
   "execution_count": null,
   "id": "8b29b2d1",
   "metadata": {},
   "outputs": [
    {
     "name": "stdout",
     "output_type": "stream",
     "text": [
      "User for delete: d206499b-c495-42fa-a142-2592c850ffda\n",
      "Enrollment for delete: 2eebc3a1-caaa-4bf8-aa0f-428125bef828\n",
      "Lesson for delete: 19897aec-7d7d-4acd-8dcf-a1bcfdc835f0\n",
      "deleted_user value: {'_id': ObjectId('684cb8adf3f5cfd4f0605033'), 'userId': 'd206499b-c495-42fa-a142-2592c850ffda', 'email': 'jackson03@example.org', 'firstName': 'Jonathan', 'lastName': 'Edwards', 'role': 'student', 'dateJoined': datetime.datetime(2025, 1, 20, 12, 34, 16), 'profile': {'bio': 'Just a chill person who loves good food, long walks, and binge‑watching documentaries on weekends. Always down for spontaneous adventures.', 'avatar': 'https://i.pravatar.cc/128?img=34', 'skills': ['mongodb', 'java']}, 'isActive': False}\n",
      "{'isActive': False, 'userId': 'd206499b-c495-42fa-a142-2592c850ffda'}\n"
     ]
    }
   ],
   "source": [
    "\n",
    "\n",
    "#  I EXECUTED THE FUNCTIONS ABOVE IN 3.4\n",
    "# # -------------------------------------------------------------\n",
    "#  Task 3.4 – DELETE operations\n",
    "# ---------------------------------------------------------\n",
    "\n",
    "# a) User to soft‑delete\n",
    "user_doc = db.users.find_one({\"role\": \"student\", \"isActive\": True})\n",
    "if not user_doc:\n",
    "    # Insert a demo student\n",
    "    user_id_str = str(uuid.uuid4())\n",
    "    db.users.insert_one({\n",
    "        \"_id\": ObjectId(),\n",
    "        \"userId\": user_id_str,\n",
    "        \"email\": \"temp@student.com\",\n",
    "        \"firstName\": \"Temp\",\n",
    "        \"lastName\": \"User\",\n",
    "        \"role\": \"student\",\n",
    "        \"dateJoined\": datetime.utcnow(),\n",
    "        \"profile\": {\"bio\": \"Temp user\", \"avatar\": \"\", \"skills\": []},\n",
    "        \"isActive\": True\n",
    "    })\n",
    "    user_doc = db.users.find_one({\"userId\": user_id_str})\n",
    "print(\"User for delete:\", user_doc[\"userId\"])\n",
    "\n",
    "# b) Enrollment to delete\n",
    "enrollment_doc = db.enrollments.find_one()\n",
    "if not enrollment_doc:\n",
    "    # Need a course + student\n",
    "    student = db.users.find_one({\"role\": \"student\"})\n",
    "    course  = db.courses.find_one()\n",
    "    enroll_student_in_course(student[\"userId\"], course[\"courseId\"])\n",
    "    enrollment_doc = db.enrollments.find_one()\n",
    "print(\"Enrollment for delete:\", enrollment_doc[\"enrollmentId\"])\n",
    "\n",
    "# c) Lesson to delete\n",
    "lesson_doc = db.lessons.find_one()\n",
    "if not lesson_doc:\n",
    "    course = db.courses.find_one()\n",
    "    add_lesson(\n",
    "        course[\"courseId\"],\n",
    "        \"Temp Lesson\",\n",
    "        \"To be deleted.\",\n",
    "        duration=1.0,\n",
    "        order=99\n",
    "    )\n",
    "    lesson_doc = db.lessons.find_one()\n",
    "print(\"Lesson for delete:\", lesson_doc[\"lessonId\"])\n",
    "\n",
    "# ---------------------------------------------------------\n",
    "# 1) SOFT‑DELETE the user\n",
    "# ---------------------------------------------------------\n",
    "#  the helper\n",
    "deleted_user = soft_delete_user(user_doc[\"userId\"])   # <- note the parentheses!\n",
    "\n",
    "#  Check what we got back\n",
    "print(\"deleted_user value:\", deleted_user)\n",
    "\n",
    "#  Safely print fields if the user was found\n",
    "if deleted_user:\n",
    "    from pprint import pprint\n",
    "    pprint({\n",
    "        \"userId\":   deleted_user[\"userId\"],\n",
    "        \"isActive\": deleted_user[\"isActive\"]\n",
    "    })\n",
    "else:\n",
    "    print(\" No user matched that userId, nothing to soft‑delete.\")\n",
    "\n"
   ]
  },
  {
   "cell_type": "code",
   "execution_count": 64,
   "id": "551e3092",
   "metadata": {},
   "outputs": [
    {
     "name": "stdout",
     "output_type": "stream",
     "text": [
      "\n",
      "🔸 Deleting enrollment …\n",
      "Deleted count: 1\n",
      "Enrollment exists after delete? False\n"
     ]
    }
   ],
   "source": [
    "\n",
    "# ---------------------------------------------------------\n",
    "# 2) HARD‑DELETE the enrollment\n",
    "# ---------------------------------------------------------\n",
    "print(\"\\n🔸 Deleting enrollment …\")\n",
    "deleted_count = delete_enrollment(enrollment_doc[\"enrollmentId\"])\n",
    "print(\"Deleted count:\", deleted_count)\n",
    "\n",
    "# Verify it’s gone\n",
    "exists = db.enrollments.find_one({\"enrollmentId\": enrollment_doc[\"enrollmentId\"]})\n",
    "print(\"Enrollment exists after delete?\", bool(exists))\n",
    "\n"
   ]
  },
  {
   "cell_type": "code",
   "execution_count": 65,
   "id": "73ee4ee0",
   "metadata": {},
   "outputs": [
    {
     "name": "stdout",
     "output_type": "stream",
     "text": [
      "\n",
      " Deleting lesson …\n",
      "Deleted count: 1\n",
      "Lesson exists after delete? False\n"
     ]
    }
   ],
   "source": [
    "\n",
    "# ---------------------------------------------------------\n",
    "# 3) HARD‑DELETE the lesson\n",
    "# ---------------------------------------------------------\n",
    "print(\"\\n Deleting lesson …\")\n",
    "deleted_count = delete_lesson(lesson_doc[\"lessonId\"])\n",
    "print(\"Deleted count:\", deleted_count)\n",
    "\n",
    "exists = db.lessons.find_one({\"lessonId\": lesson_doc[\"lessonId\"]})\n",
    "print(\"Lesson exists after delete?\", bool(exists))"
   ]
  },
  {
   "cell_type": "markdown",
   "id": "98855f9b",
   "metadata": {},
   "source": [
    "#Part 4: Advanced Queries and Aggregation \n",
    "#  Task 4.1: Complex Queries"
   ]
  },
  {
   "cell_type": "code",
   "execution_count": null,
   "id": "61fbbb09",
   "metadata": {},
   "outputs": [
    {
     "name": "stdout",
     "output_type": "stream",
     "text": [
      "\n",
      "Courses priced between $50 and $200:\n",
      " • Fullstack Data Engineering Bootcamp - 197.63\n",
      " • Cloud Computing Basics - 89.18\n",
      " • Docker Mastery - 146.96\n",
      " • Intro to MongoDB - 127.9\n"
     ]
    }
   ],
   "source": [
    " #Find courses with price between $50 and $200 \n",
    "courses = db.courses.find({\n",
    "    \"price\": {\"$gte\": 50, \"$lte\": 200}\n",
    "})\n",
    "print(\"\\nCourses priced between $50 and $200:\")\n",
    "for c in courses:\n",
    "    print(\" •\", c[\"title\"], \"-\", c[\"price\"])\n"
   ]
  },
  {
   "cell_type": "code",
   "execution_count": null,
   "id": "88f06df6",
   "metadata": {},
   "outputs": [
    {
     "name": "stdout",
     "output_type": "stream",
     "text": [
      "\n",
      "Users who joined in the last 6 months:\n",
      " • Jonathan jackson03@example.org\n",
      " • Robert nschroeder@example.org\n",
      " • Amy brucesarah@example.org\n",
      " • Michael richardneal@example.net\n",
      " • Barbara brownjacqueline@example.com\n",
      " • Scott georgescott@example.org\n"
     ]
    },
    {
     "name": "stderr",
     "output_type": "stream",
     "text": [
      "C:\\Users\\HP\\AppData\\Local\\Temp\\ipykernel_7572\\3080746814.py:1: DeprecationWarning: datetime.datetime.utcnow() is deprecated and scheduled for removal in a future version. Use timezone-aware objects to represent datetimes in UTC: datetime.datetime.now(datetime.UTC).\n",
      "  six_months_ago = datetime.utcnow() - timedelta(days=180)\n"
     ]
    }
   ],
   "source": [
    "#2\tGet users who joined in the last 6 months \n",
    "six_months_ago = datetime.utcnow() - timedelta(days=180)\n",
    "users = db.users.find({\n",
    "    \"dateJoined\": {\"$gte\": six_months_ago}\n",
    "})\n",
    "print(\"\\nUsers who joined in the last 6 months:\")\n",
    "for u in users:\n",
    "    print(\" •\", u[\"firstName\"], u[\"email\"])\n"
   ]
  },
  {
   "cell_type": "code",
   "execution_count": null,
   "id": "2c55ef97",
   "metadata": {},
   "outputs": [
    {
     "name": "stdout",
     "output_type": "stream",
     "text": [
      "\n",
      "Courses with desired tags:\n",
      " • Mastering Python for Data Science - ['mentor supported', 'project based', 'career ready']\n",
      " • Fullstack Data Engineering Bootcamp - ['interactive', 'quiz-included', 'mentor supported', 'career ready']\n",
      " • AI Foundations with TensorFlow - ['mentor supported', 'quiz-included', 'interactive']\n",
      " • Power BI Essentials - ['project based', 'interactive', 'career ready']\n",
      " • Cloud Computing Basics - ['career ready', 'quiz-included', 'interactive']\n",
      " • Cybersecurity for Beginners - ['mentor supported', 'quiz-included', 'project based']\n",
      " • Docker Mastery - ['project based', 'mentor supported', 'career ready']\n",
      " • Intro to MongoDB - ['project based', 'mentor supported', 'quiz-included']\n"
     ]
    }
   ],
   "source": [
    "#3 Find courses that have specific tags using $in operator\n",
    "desired_tags = [ 'interactive', 'mentor supported', 'project based']\n",
    "tagged_courses = db.courses.find({\n",
    "    \"tags\": {\"$in\": desired_tags}\n",
    "})\n",
    "print(\"\\nCourses with desired tags:\")\n",
    "for c in tagged_courses:\n",
    "    print(\" •\", c[\"title\"], \"-\", c.get(\"tags\", []))\n"
   ]
  },
  {
   "cell_type": "code",
   "execution_count": null,
   "id": "aff4b0d9",
   "metadata": {},
   "outputs": [
    {
     "name": "stdout",
     "output_type": "stream",
     "text": [
      "\n",
      "Assignments due in the next week:\n",
      " • Cloud Deployment Exercise Due: 2025-06-20\n",
      " • Security Risk Assessment Due: 2025-06-20\n"
     ]
    },
    {
     "name": "stderr",
     "output_type": "stream",
     "text": [
      "C:\\Users\\HP\\AppData\\Local\\Temp\\ipykernel_7572\\4179861544.py:1: DeprecationWarning: datetime.datetime.utcnow() is deprecated and scheduled for removal in a future version. Use timezone-aware objects to represent datetimes in UTC: datetime.datetime.now(datetime.UTC).\n",
      "  now = datetime.utcnow()\n"
     ]
    }
   ],
   "source": [
    "# 4\tRetrieve assignments with due dates in the next\n",
    "now = datetime.utcnow()\n",
    "next_week = now + timedelta(days=7)\n",
    "upcoming_assignments = db.assignments.find({\n",
    "    \"dueDate\": {\"$gte\": now, \"$lte\": next_week}\n",
    "})\n",
    "print(\"\\nAssignments due in the next week:\")\n",
    "for a in upcoming_assignments:\n",
    "    print(\" •\", a[\"title\"], \"Due:\", a[\"dueDate\"].strftime(\"%Y-%m-%d\"))\n"
   ]
  },
  {
   "cell_type": "code",
   "execution_count": null,
   "id": "26b8ad10",
   "metadata": {},
   "outputs": [
    {
     "name": "stdout",
     "output_type": "stream",
     "text": [
      "🔧 Patched 0 submissions with dummy grades.\n",
      "\n",
      "🔧 Broken graded submissions: 0\n",
      "✅ Re‑linked every graded submission to a real course.\n",
      "Found broken enrollments: 0\n",
      "✅ All fixed. Broken enrollments now point to real courses.\n",
      "📊 Total enrollments per course:\n",
      "[{'course': 'Mastering Python for Data Science', 'total': 7},\n",
      " {'course': 'Power BI Essentials', 'total': 7},\n",
      " {'course': 'Cybersecurity for Beginners', 'total': 5},\n",
      " {'course': 'Cloud Computing Basics', 'total': 4},\n",
      " {'course': 'AI Foundations with TensorFlow', 'total': 3},\n",
      " {'course': 'Intro to MongoDB', 'total': 2},\n",
      " {'course': 'Docker Mastery', 'total': 2}]\n",
      "\n",
      "⭐ Average grade per course:\n",
      "[{'avgGrade': 96.0, 'course': 'AI Foundations with TensorFlow'},\n",
      " {'avgGrade': 95.0, 'course': 'Docker Mastery'},\n",
      " {'avgGrade': 92.0, 'course': 'Fullstack Data Engineering Bootcamp'},\n",
      " {'avgGrade': 92.0, 'course': 'Cybersecurity for Beginners'},\n",
      " {'avgGrade': 82.0, 'course': 'Intro to MongoDB'},\n",
      " {'avgGrade': 67.0, 'course': 'Mastering Python for Data Science'}]\n",
      "\n",
      "📂 Courses grouped by category:\n",
      "[{'_id': 'data science', 'numCourses': 3},\n",
      " {'_id': 'cybersecurity', 'numCourses': 2},\n",
      " {'_id': 'data analysis', 'numCourses': 2},\n",
      " {'_id': 'artificial intelligence', 'numCourses': 1}]\n"
     ]
    }
   ],
   "source": [
    "#Task 4.2: Aggregation Pipeline Create aggregation pipelines using PyMongo \n",
    "# ---------------------------------------------\n",
    "# 0) ONE‑TIME PATCH  → add grades if missing\n",
    "# ---------------------------------------------\n",
    "patched = db.submissions.update_many(\n",
    "    {\"grade\": {\"$exists\": False}},\n",
    "    {\"$set\": {\"grade\": {\"$add\": [60, {\"$multiply\": [random.random(), 40]}]}}}\n",
    ").modified_count\n",
    "print(f\" Patched {patched} submissions with dummy grades.\\n\")\n",
    "\n",
    "\n",
    "# build a list of real courseId strings\n",
    "valid_course_ids = list(db.courses.distinct(\"courseId\"))\n",
    "\n",
    "# find graded submissions whose courseId is NOT in that list\n",
    "broken_submissions = list(db.submissions.find({\n",
    "    \"grade\": {\"$ne\": None},\n",
    "    \"courseId\": {\"$nin\": valid_course_ids}\n",
    "}))\n",
    "\n",
    "print(\" Broken graded submissions:\", len(broken_submissions))\n",
    "\n",
    "for sub in broken_submissions:\n",
    "    new_cid = choice(valid_course_ids)\n",
    "    db.submissions.update_one(\n",
    "        {\"_id\": sub[\"_id\"]},\n",
    "        {\"$set\": {\"courseId\": new_cid}}\n",
    "    )\n",
    "\n",
    "print(\" Re‑linked every graded submission to a real course.\")\n",
    "\n",
    "# =============================================================\n",
    "# 4.2.1  COURSE ENROLLMENT STATS\n",
    "# =============================================================\n",
    "\n",
    "\n",
    "#  Step 1: get all valid courseIds from the courses collection\n",
    "valid_course_ids = list(db.courses.distinct(\"courseId\"))\n",
    "\n",
    "#  Step 2: find enrollments that have invalid (broken) courseIds\n",
    "broken_enrollments = list(db.enrollments.find({\n",
    "    \"courseId\": {\"$nin\": valid_course_ids}\n",
    "}))\n",
    "\n",
    "print(\"Found broken enrollments:\", len(broken_enrollments))\n",
    "\n",
    "#  Step 3: assign each broken enrollment to a random valid courseId\n",
    "for e in broken_enrollments:\n",
    "    new_course_id = choice(valid_course_ids)\n",
    "    db.enrollments.update_one(\n",
    "        {\"_id\": e[\"_id\"]},\n",
    "        {\"$set\": {\"courseId\": new_course_id}}\n",
    "    )\n",
    "\n",
    "print(\" All fixed. Broken enrollments now point to real courses.\")\n",
    "\n",
    "\n",
    "\n",
    "# Total enrollments per course  (handles ObjectId/string)\n",
    "pipeline = [\n",
    "    {\"$group\": {\"_id\": \"$courseId\", \"total\": {\"$sum\": 1}}},\n",
    "    {\"$lookup\": {\n",
    "        \"from\": \"courses\",\n",
    "        \"localField\": \"_id\",\n",
    "        \"foreignField\": \"courseId\",\n",
    "        \"as\": \"course\"\n",
    "    }},\n",
    "    {\"$unwind\": \"$course\"},\n",
    "    {\"$project\": {\n",
    "        \"_id\": 0,\n",
    "        \"course\": \"$course.title\",\n",
    "        \"total\": 1\n",
    "    }},\n",
    "    {\"$sort\": {\"total\": -1}}\n",
    "]\n",
    "print(\" Total enrollments per course:\")\n",
    "pprint(list(db.enrollments.aggregate(pipeline)))\n",
    "\n",
    "\n",
    "# Avg grade per course\n",
    "\n",
    "pipeline = [\n",
    "    {\"$match\": {\"grade\": {\"$ne\": None}}},\n",
    "    {\"$group\": {\"_id\": \"$courseId\", \"avgGrade\": {\"$avg\": \"$grade\"}}},\n",
    "    {\"$lookup\": {\n",
    "        \"from\": \"courses\",\n",
    "        \"localField\": \"_id\",\n",
    "        \"foreignField\": \"courseId\",\n",
    "        \"as\": \"course\"}},\n",
    "    {\"$unwind\": \"$course\"},\n",
    "    {\"$project\": {\"_id\": 0,\n",
    "                  \"course\": \"$course.title\",\n",
    "                  \"avgGrade\": {\"$round\": [\"$avgGrade\", 1]}}},\n",
    "    {\"$sort\": {\"avgGrade\": -1}}\n",
    "]\n",
    "\n",
    "print(\"\\n Average grade per course:\")\n",
    "pprint(list(db.submissions.aggregate(pipeline)))\n",
    "\n",
    "\n",
    "\n",
    "\n",
    "# Courses by category\n",
    "pipeline = [\n",
    "    {\"$group\": {\"_id\": \"$category\", \"numCourses\": {\"$sum\": 1}}},\n",
    "    {\"$sort\": {\"numCourses\": -1}}\n",
    "]\n",
    "print(\"\\n Courses grouped by category:\")\n",
    "pprint(list(db.courses.aggregate(pipeline)))\n"
   ]
  },
  {
   "cell_type": "code",
   "execution_count": null,
   "id": "eaeebc50",
   "metadata": {},
   "outputs": [
    {
     "name": "stdout",
     "output_type": "stream",
     "text": [
      "Broken graded submissions (bad studentId): 8\n",
      "✅ Re‑linked all graded submissions to real students.\n",
      "✅ Set 5 enrollments to progress = 1.0\n",
      "✅ Updated 3 submissions to grade = 95\n",
      "\n",
      "🎓 Average grade per student:\n",
      "[{'avgGrade': 97.0, 'student': 'Michael Dixon'},\n",
      " {'avgGrade': 95.0, 'student': 'Joshua Jackson'},\n",
      " {'avgGrade': 95.0, 'student': 'Brandi Taylor'},\n",
      " {'avgGrade': 92.0, 'student': 'Amy Torres'},\n",
      " {'avgGrade': 89.0, 'student': 'Gregory Larsen'},\n",
      " {'avgGrade': 82.0, 'student': 'Jennifer Bishop'},\n",
      " {'avgGrade': 67.0, 'student': 'Shawn Gutierrez'}]\n",
      "\n",
      "✅ Completion rate by course:\n",
      "[{'completionRate': 0.5, 'course': 'Docker Mastery'},\n",
      " {'completionRate': 0.29, 'course': 'Power BI Essentials'},\n",
      " {'completionRate': 0.25, 'course': 'Cloud Computing Basics'},\n",
      " {'completionRate': 0.14, 'course': 'Mastering Python for Data Science'},\n",
      " {'completionRate': 0.0, 'course': 'Cybersecurity for Beginners'},\n",
      " {'completionRate': 0.0, 'course': 'Intro to MongoDB'},\n",
      " {'completionRate': 0.0, 'course': 'AI Foundations with TensorFlow'}]\n",
      "\n",
      "🏅 Top‑performing students (avg ≥ 90):\n",
      "[{'avgGrade': 97.0, 'student': 'Michael Dixon'},\n",
      " {'avgGrade': 95.0, 'student': 'Joshua Jackson'},\n",
      " {'avgGrade': 95.0, 'student': 'Brandi Taylor'},\n",
      " {'avgGrade': 92.0, 'student': 'Amy Torres'}]\n"
     ]
    }
   ],
   "source": [
    "\n",
    "# =============================================================\n",
    "# 4.2.2  STUDENT PERFORMANCE\n",
    "# ============================================================\n",
    "\n",
    "# Grab valid userIds for students\n",
    "valid_student_ids = list(db.users.distinct(\"userId\", {\"role\": \"student\"}))\n",
    "\n",
    "broken_subs = list(db.submissions.find({\n",
    "    \"grade\": {\"$ne\": None},\n",
    "    \"studentId\": {\"$nin\": valid_student_ids}\n",
    "}))\n",
    "\n",
    "print(\"Broken graded submissions (bad studentId):\", len(broken_subs))\n",
    "\n",
    "for sub in broken_subs:\n",
    "    db.submissions.update_one(\n",
    "        {\"_id\": sub[\"_id\"]},\n",
    "        {\"$set\": {\"studentId\": choice(valid_student_ids)}}\n",
    "    )\n",
    "\n",
    "print(\" Re‑linked all graded submissions to real students.\")\n",
    "\n",
    "# Pick 5 random enrollments and mark them completed\n",
    "completed_ids = [e[\"_id\"] for e in db.enrollments.aggregate([{\"$sample\": {\"size\": 5}}])]\n",
    "db.enrollments.update_many({\"_id\": {\"$in\": completed_ids}},\n",
    "                           {\"$set\": {\"progress\": 1.0}})\n",
    "print(\" Set 5 enrollments to progress = 1.0\")\n",
    "\n",
    "# Set first 3 graded submissions to a high score\n",
    "high_subs = list(db.submissions.find({\"grade\": {\"$exists\": True}}).limit(3))\n",
    "for s in high_subs:\n",
    "    db.submissions.update_one({\"_id\": s[\"_id\"]}, {\"$set\": {\"grade\": 95}})\n",
    "print(\" Updated 3 submissions to grade = 95\")\n",
    "\n",
    "\n",
    "\n",
    "# Avg grade per student\n",
    "pipeline = [\n",
    "    {\"$group\": {\"_id\": \"$studentId\", \"avgGrade\": {\"$avg\": \"$grade\"}}},\n",
    "    {\"$lookup\": {\"from\": \"users\", \"localField\": \"_id\",\n",
    "                 \"foreignField\": \"userId\", \"as\": \"student\"}},\n",
    "    {\"$unwind\": \"$student\"},\n",
    "    {\"$project\": {\"_id\": 0,\n",
    "                  \"student\": {\"$concat\": [\"$student.firstName\", \" \", \"$student.lastName\"]},\n",
    "                  \"avgGrade\": {\"$round\": [\"$avgGrade\", 1]}}},\n",
    "    {\"$sort\": {\"avgGrade\": -1}}\n",
    "]\n",
    "print(\"\\n🎓 Average grade per student:\")\n",
    "pprint(list(db.submissions.aggregate(pipeline)))\n",
    "\n",
    "# Completion rate by course (progress==1)\n",
    "pipeline = [\n",
    "    {\"$group\": {\n",
    "        \"_id\": \"$courseId\",\n",
    "        \"completed\": {\"$sum\": {\"$cond\": [{\"$gte\": [\"$progress\", 1]}, 1, 0]}},\n",
    "        \"total\": {\"$sum\": 1}\n",
    "    }},\n",
    "    {\"$addFields\": {\"completionRate\": {\"$divide\": [\"$completed\", \"$total\"]}}},\n",
    "    {\"$lookup\": {\"from\": \"courses\", \"localField\": \"_id\",\n",
    "                 \"foreignField\": \"courseId\", \"as\": \"course\"}},\n",
    "    {\"$unwind\": \"$course\"},\n",
    "    {\"$project\": {\"_id\": 0, \"course\": \"$course.title\",\n",
    "                  \"completionRate\": {\"$round\": [\"$completionRate\", 2]}}},\n",
    "    {\"$sort\": {\"completionRate\": -1}}\n",
    "]\n",
    "print(\"\\n Completion rate by course:\")\n",
    "pprint(list(db.enrollments.aggregate(pipeline)))\n",
    "\n",
    "# Top-performing students (avgGrade ≥ 90)\n",
    "\n",
    "pipeline = [\n",
    "    {\"$group\": {\"_id\": \"$studentId\", \"avgGrade\": {\"$avg\": \"$grade\"}}},\n",
    "    {\"$match\": {\"avgGrade\": {\"$gte\": 90}}},\n",
    "    {\"$lookup\": {\"from\": \"users\", \"localField\": \"_id\",\n",
    "                 \"foreignField\": \"userId\", \"as\": \"student\"}},\n",
    "    {\"$unwind\": \"$student\"},\n",
    "    {\"$project\": {\"_id\": 0,\n",
    "                  \"student\": {\"$concat\": [\"$student.firstName\", \" \", \"$student.lastName\"]},\n",
    "                  \"avgGrade\": {\"$round\": [\"$avgGrade\", 1]}}},\n",
    "    {\"$sort\": {\"avgGrade\": -1}}\n",
    "]\n",
    "print(\"\\n Top‑performing students (avg ≥ 90):\")\n",
    "pprint(list(db.submissions.aggregate(pipeline)))\n"
   ]
  },
  {
   "cell_type": "code",
   "execution_count": null,
   "id": "5c0d24b2",
   "metadata": {},
   "outputs": [
    {
     "name": "stdout",
     "output_type": "stream",
     "text": [
      "\n",
      "👩‍🏫 Total students taught per instructor:\n",
      "[{'instructor': 'Amber Larsen', 'totalStudents': 8},\n",
      " {'instructor': 'Barbara Galvan', 'totalStudents': 7},\n",
      " {'instructor': 'Angela Moore', 'totalStudents': 7},\n",
      " {'instructor': 'Ashley Williamson', 'totalStudents': 5},\n",
      " {'instructor': 'Timothy Nash', 'totalStudents': 3}]\n",
      "\n",
      "📝 Avg course grade per instructor:\n",
      "[{'avgGrade': 98.0, 'instructor': 'Timothy Nash'},\n",
      " {'avgGrade': 92.0, 'instructor': 'Ashley Williamson'},\n",
      " {'avgGrade': 87.7, 'instructor': 'Amber Larsen'},\n",
      " {'avgGrade': 67.0, 'instructor': 'Angela Moore'}]\n",
      "\n",
      "💵 Revenue per instructor:\n",
      "[{'instructor': 'Barbara Galvan', 'revenue': 1948.8},\n",
      " {'instructor': 'Angela Moore', 'revenue': 1779.33},\n",
      " {'instructor': 'Ashley Williamson', 'revenue': 1262.4},\n",
      " {'instructor': 'Amber Larsen', 'revenue': 906.44},\n",
      " {'instructor': 'Timothy Nash', 'revenue': 640.68}]\n"
     ]
    }
   ],
   "source": [
    "\n",
    "# =============================================================\n",
    "# 4.2.3  INSTRUCTOR ANALYTICS\n",
    "# =============================================================\n",
    "\n",
    "# Total unique students taught per instructor\n",
    "pipeline = [\n",
    "    {\"$group\": {\n",
    "        \"_id\": \"$courseId\",\n",
    "        \"students\": {\"$addToSet\": \"$studentId\"}\n",
    "    }},\n",
    "    {\"$lookup\": {\"from\": \"courses\", \"localField\": \"_id\",\n",
    "                 \"foreignField\": \"courseId\", \"as\": \"course\"}},\n",
    "    {\"$unwind\": \"$course\"},\n",
    "    {\"$group\": {\n",
    "        \"_id\": \"$course.instructorId\",\n",
    "        \"totalStudents\": {\"$sum\": {\"$size\": \"$students\"}}\n",
    "    }},\n",
    "    {\"$lookup\": {\"from\": \"users\", \"localField\": \"_id\",\n",
    "                 \"foreignField\": \"userId\", \"as\": \"instructor\"}},\n",
    "    {\"$unwind\": \"$instructor\"},\n",
    "    {\"$project\": {\"_id\": 0,\n",
    "                  \"instructor\": {\"$concat\": [\"$instructor.firstName\", \" \", \"$instructor.lastName\"]},\n",
    "                  \"totalStudents\": 1}},\n",
    "    {\"$sort\": {\"totalStudents\": -1}}\n",
    "]\n",
    "print(\"\\n Total students taught per instructor:\")\n",
    "pprint(list(db.enrollments.aggregate(pipeline)))\n",
    "\n",
    "# Avg grade per instructor\n",
    "pipeline = [\n",
    "    {\"$group\": {\"_id\": \"$courseId\", \"avgGrade\": {\"$avg\": \"$grade\"}}},\n",
    "    {\"$lookup\": {\"from\": \"courses\", \"localField\": \"_id\",\n",
    "                 \"foreignField\": \"courseId\", \"as\": \"course\"}},\n",
    "    {\"$unwind\": \"$course\"},\n",
    "    {\"$group\": {\"_id\": \"$course.instructorId\", \"avgGrade\": {\"$avg\": \"$avgGrade\"}}},\n",
    "    {\"$lookup\": {\"from\": \"users\", \"localField\": \"_id\",\n",
    "                 \"foreignField\": \"userId\", \"as\": \"instructor\"}},\n",
    "    {\"$unwind\": \"$instructor\"},\n",
    "    {\"$project\": {\"_id\": 0,\n",
    "                  \"instructor\": {\"$concat\": [\"$instructor.firstName\", \" \", \"$instructor.lastName\"]},\n",
    "                  \"avgGrade\": {\"$round\": [\"$avgGrade\", 1]}}},\n",
    "    {\"$sort\": {\"avgGrade\": -1}}\n",
    "]\n",
    "print(\"\\n Avg course grade per instructor:\")\n",
    "pprint(list(db.submissions.aggregate(pipeline)))\n",
    "\n",
    "# Revenue per instructor\n",
    "pipeline = [\n",
    "    {\"$lookup\": {\"from\": \"courses\", \"localField\": \"courseId\",\n",
    "                 \"foreignField\": \"courseId\", \"as\": \"course\"}},\n",
    "    {\"$unwind\": \"$course\"},\n",
    "    {\"$group\": {\"_id\": \"$course.instructorId\", \"revenue\": {\"$sum\": \"$course.price\"}}},\n",
    "    {\"$lookup\": {\"from\": \"users\", \"localField\": \"_id\",\n",
    "                 \"foreignField\": \"userId\", \"as\": \"instructor\"}},\n",
    "    {\"$unwind\": \"$instructor\"},\n",
    "    {\"$project\": {\"_id\": 0,\n",
    "                  \"instructor\": {\"$concat\": [\"$instructor.firstName\", \" \", \"$instructor.lastName\"]},\n",
    "                  \"revenue\": {\"$round\": [\"$revenue\", 2]}}},\n",
    "    {\"$sort\": {\"revenue\": -1}}\n",
    "]\n",
    "print(\"\\n Revenue per instructor:\")\n",
    "pprint(list(db.enrollments.aggregate(pipeline)))\n"
   ]
  },
  {
   "cell_type": "code",
   "execution_count": null,
   "id": "961cb2d6",
   "metadata": {},
   "outputs": [
    {
     "name": "stdout",
     "output_type": "stream",
     "text": [
      "\n",
      "📈 Monthly enrollment trends:\n",
      "[{'_id': '2025-06', 'numEnrollments': 30}]\n",
      "\n",
      "🔥 Most popular course categories:\n",
      "[{'_id': 'cybersecurity', 'enrollments': 14},\n",
      " {'_id': 'data analysis', 'enrollments': 6},\n",
      " {'_id': 'data science', 'enrollments': 5},\n",
      " {'_id': 'artificial intelligence', 'enrollments': 5}]\n",
      "\n",
      "📊 Student engagement (avg progress per course):\n",
      "[{'avgProgress': 0.73, 'course': 'AI Foundations with TensorFlow'},\n",
      " {'avgProgress': 0.53, 'course': 'Power BI Essentials'},\n",
      " {'avgProgress': 0.45, 'course': 'Intro to MongoDB'},\n",
      " {'avgProgress': 0.36, 'course': 'Cybersecurity for Beginners'},\n",
      " {'avgProgress': 0.35, 'course': 'Mastering Python for Data Science'},\n",
      " {'avgProgress': 0.26, 'course': 'Docker Mastery'},\n",
      " {'avgProgress': 0.24, 'course': 'Cloud Computing Basics'}]\n"
     ]
    }
   ],
   "source": [
    "\n",
    "# =============================================================\n",
    "# 4.2.4  ADVANCED ANALYTICS\n",
    "# =============================================================\n",
    "\n",
    "# Monthly enrollment trends\n",
    "pipeline = [\n",
    "    {\"$addFields\": {\"month\": {\"$dateToString\": {\"format\": \"%Y-%m\", \"date\": \"$enrolledAt\"}}}},\n",
    "    {\"$group\": {\"_id\": \"$month\", \"numEnrollments\": {\"$sum\": 1}}},\n",
    "    {\"$sort\": {\"_id\": 1}}\n",
    "]\n",
    "print(\"\\n Monthly enrollment trends:\")\n",
    "pprint(list(db.enrollments.aggregate(pipeline)))\n",
    "\n",
    "# Most popular categories (by enrollments)\n",
    "pipeline = [\n",
    "    {\"$lookup\": {\"from\": \"courses\", \"localField\": \"courseId\",\n",
    "                 \"foreignField\": \"courseId\", \"as\": \"course\"}},\n",
    "    {\"$unwind\": \"$course\"},\n",
    "    {\"$group\": {\"_id\": \"$course.category\", \"enrollments\": {\"$sum\": 1}}},\n",
    "    {\"$sort\": {\"enrollments\": -1}}\n",
    "]\n",
    "print(\"\\n Most popular course categories:\")\n",
    "pprint(list(db.enrollments.aggregate(pipeline)))\n",
    "\n",
    "# Student engagement (avg progress per course)\n",
    "pipeline = [\n",
    "    {\"$group\": {\"_id\": \"$courseId\", \"avgProgress\": {\"$avg\": \"$progress\"}}},\n",
    "    {\"$lookup\": {\"from\": \"courses\", \"localField\": \"_id\",\n",
    "                 \"foreignField\": \"courseId\", \"as\": \"course\"}},\n",
    "    {\"$unwind\": \"$course\"},\n",
    "    {\"$project\": {\"_id\": 0,\n",
    "                  \"course\": \"$course.title\",\n",
    "                  \"avgProgress\": {\"$round\": [\"$avgProgress\", 2]}}},\n",
    "    {\"$sort\": {\"avgProgress\": -1}}\n",
    "]\n",
    "print(\"\\n Student engagement (avg progress per course):\")\n",
    "pprint(list(db.enrollments.aggregate(pipeline)))\n"
   ]
  },
  {
   "cell_type": "markdown",
   "id": "990717ff",
   "metadata": {},
   "source": [
    "PART 5 INDEXING AND PERFORMANCE "
   ]
  },
  {
   "cell_type": "code",
   "execution_count": 106,
   "id": "8f6d4812",
   "metadata": {},
   "outputs": [
    {
     "name": "stdout",
     "output_type": "stream",
     "text": [
      "Creating indexes …\n",
      "\n",
      " Returned index names:\n",
      "idx_user_email idx_course_title_category idx_assignment_dueDate idx_enrollment_student_course\n",
      "\n",
      "  users indexes:\n",
      " • _id_ → [('_id', 1)]\n",
      " • idx_user_email → [('email', 1)]\n",
      "\n",
      "  courses indexes:\n",
      " • _id_ → [('_id', 1)]\n",
      " • idx_course_title_category → [('_fts', 'text'), ('_ftsx', 1)]\n",
      "\n",
      "  assignments indexes:\n",
      " • _id_ → [('_id', 1)]\n",
      " • idx_assignment_dueDate → [('dueDate', -1)]\n",
      "\n",
      "  enrollments indexes:\n",
      " • _id_ → [('_id', 1)]\n",
      " • idx_enrollment_student_course → [('studentId', 1), ('courseId', 1)]\n",
      "\n",
      "  Full detail for courses:\n",
      "SON([('v', 2), ('key', SON([('_id', 1)])), ('name', '_id_')])\n",
      "SON([('v', 2), ('key', SON([('_fts', 'text'), ('_ftsx', 1)])), ('name', 'idx_course_title_category'), ('weights', SON([('category', 1), ('title', 1)])), ('default_language', 'english'), ('language_override', 'language'), ('textIndexVersion', 3)])\n"
     ]
    }
   ],
   "source": [
    "\n",
    "# --------------------------------------------------\n",
    "# 1. Create  all indexes\n",
    "# --------------------------------------------------\n",
    "print(\"Creating indexes …\")\n",
    "\n",
    "ix_email   = db.users.create_index(\n",
    "    [(\"email\", 1)], name=\"idx_user_email\", unique=True\n",
    ")\n",
    "ix_course  = db.courses.create_index(\n",
    "    [(\"title\", \"text\"), (\"category\", \"text\")],\n",
    "    name=\"idx_course_title_category\"\n",
    ")\n",
    "ix_assign  = db.assignments.create_index(\n",
    "    [(\"dueDate\", -1)], name=\"idx_assignment_dueDate\"\n",
    ")\n",
    "ix_enroll  = db.enrollments.create_index(\n",
    "    [(\"studentId\", 1), (\"courseId\", 1)],\n",
    "    name=\"idx_enrollment_student_course\"\n",
    ")\n",
    "\n",
    "print(\"\\n Returned index names:\")\n",
    "print(ix_email, ix_course, ix_assign, ix_enroll)\n",
    "\n",
    "# --------------------------------------------------\n",
    "# 2. Show every index on each collection\n",
    "# --------------------------------------------------\n",
    "def show_indexes(col_name):\n",
    "    print(f\"\\n  {col_name} indexes:\")\n",
    "    for name, info in db[col_name].index_information().items():\n",
    "        print(\" •\", name, \"→\", info[\"key\"])\n",
    "\n",
    "show_indexes(\"users\")\n",
    "show_indexes(\"courses\")\n",
    "show_indexes(\"assignments\")\n",
    "show_indexes(\"enrollments\")\n",
    "\n",
    "# --------------------------------------------------\n",
    "# 3. raw server docs \n",
    "# --------------------------------------------------\n",
    "print(\"\\n  Full detail for courses:\")\n",
    "for ix in db.courses.list_indexes():\n",
    "    pprint(ix)\n"
   ]
  },
  {
   "cell_type": "markdown",
   "id": "f7855c11",
   "metadata": {},
   "source": [
    "QUERY OPTIMIZATION 5.2"
   ]
  },
  {
   "cell_type": "code",
   "execution_count": null,
   "id": "7a72785e",
   "metadata": {},
   "outputs": [
    {
     "name": "stdout",
     "output_type": "stream",
     "text": [
      "  Search courses WITHOUT text index: 3.36 ms\n",
      "\n",
      "Explain plan:\n",
      "{'indexFilterSet': False,\n",
      " 'maxIndexedAndSolutionsReached': False,\n",
      " 'maxIndexedOrSolutionsReached': False,\n",
      " 'maxScansToExplodeReached': False,\n",
      " 'namespace': 'eduhub_db.courses',\n",
      " 'optimizationTimeMillis': 0,\n",
      " 'parsedQuery': {'title': {'$options': 'i', '$regex': 'python'}},\n",
      " 'planCacheKey': '71A1B573',\n",
      " 'planCacheShapeHash': 'C804571F',\n",
      " 'prunedSimilarIndexes': False,\n",
      " 'queryHash': 'C804571F',\n",
      " 'rejectedPlans': [],\n",
      " 'winningPlan': {'direction': 'forward',\n",
      "                 'filter': {'title': {'$options': 'i', '$regex': 'python'}},\n",
      "                 'isCached': False,\n",
      "                 'stage': 'COLLSCAN'}}\n",
      "⏱  Assignment lookup w/o index: 2.67 ms\n",
      "⚡ Assignment lookup WITH idx_assignment_dueDate: 2.15 ms\n",
      "⏱  Enrollment lookup w/o hint: 2.66 ms\n",
      "⚡ Enrollment lookup WITH compound index: 2.64 ms\n"
     ]
    },
    {
     "name": "stderr",
     "output_type": "stream",
     "text": [
      "C:\\Users\\HP\\AppData\\Local\\Temp\\ipykernel_7572\\3417869306.py:31: DeprecationWarning: datetime.datetime.utcnow() is deprecated and scheduled for removal in a future version. Use timezone-aware objects to represent datetimes in UTC: datetime.datetime.now(datetime.UTC).\n",
      "  now = datetime.utcnow()\n",
      "C:\\Users\\HP\\AppData\\Local\\Temp\\ipykernel_7572\\3417869306.py:38: DeprecationWarning: datetime.datetime.utcnow() is deprecated and scheduled for removal in a future version. Use timezone-aware objects to represent datetimes in UTC: datetime.datetime.now(datetime.UTC).\n",
      "  now = datetime.utcnow()\n"
     ]
    },
    {
     "data": {
      "text/plain": [
       "[{'_id': ObjectId('684bc88ab76e170c1fd03e85'),\n",
       "  'enrollmentId': 'e41960dc-4184-459d-ab39-57a75b6527fa',\n",
       "  'studentId': '4f79f05b-df2b-4171-ad41-e72900b08df7',\n",
       "  'courseId': 'd3075772-582a-4098-9287-55c56345a8ad',\n",
       "  'enrolledAt': datetime.datetime(2025, 6, 13, 6, 43, 22, 736000),\n",
       "  'progress': 0.98,\n",
       "  'isActive': True}]"
      ]
     },
     "execution_count": 110,
     "metadata": {},
     "output_type": "execute_result"
    }
   ],
   "source": [
    "\n",
    "\n",
    "def timed(label):\n",
    "    \"\"\"Decorator to time a function\"\"\"\n",
    "    def wrap(func):\n",
    "        @functools.wraps(func)\n",
    "        def inner(*args, **kwargs):\n",
    "            start = time.perf_counter()\n",
    "            result = func(*args, **kwargs)\n",
    "            dur = (time.perf_counter() - start) * 1000  # ms\n",
    "            print(f\"{label}: {dur:.2f} ms\")\n",
    "            return result\n",
    "        return inner\n",
    "    return wrap\n",
    "\n",
    "\n",
    "\n",
    "\n",
    "@timed(\"  Search courses WITHOUT text index\") # slow query 1\n",
    "def slow_course_search_no_index():\n",
    "    return list(db.courses.find(\n",
    "        {\"title\": {\"$regex\": \"python\", \"$options\": \"i\"}}\n",
    "    ))\n",
    "\n",
    "slow_course_search_no_index()\n",
    "\n",
    "print(\"\\nExplain plan:\")\n",
    "pprint(db.courses.find({\"title\": {\"$regex\": \"python\", \"$options\": \"i\"}}).explain()[\"queryPlanner\"])\n",
    "\n",
    "\n",
    "@timed(\"⏱  Assignment lookup w/o index\") #slow query 2\n",
    "def slow_assignment_lookup():\n",
    "    now = datetime.utcnow()\n",
    "    return list(db.assignments.find({\"dueDate\": {\"$gte\": now}}))\n",
    "\n",
    "slow_assignment_lookup()\n",
    "\n",
    "@timed(\" Assignment lookup WITH idx_assignment_dueDate\")\n",
    "def fast_assignment_lookup():\n",
    "    now = datetime.utcnow()\n",
    "    return list(db.assignments.find(\n",
    "        {\"dueDate\": {\"$gte\": now}}\n",
    "    ).hint(\"idx_assignment_dueDate\"))\n",
    "\n",
    "fast_assignment_lookup()\n",
    "\n",
    "\n",
    "\n",
    "\n",
    "\n",
    "sample_enrollment = db.enrollments.find_one()  #slow query 3\n",
    "student_id = sample_enrollment[\"studentId\"]\n",
    "course_id  = sample_enrollment[\"courseId\"]\n",
    "\n",
    "@timed(\"  Enrollment lookup w/o hint\")\n",
    "def slow_enroll_lookup():\n",
    "    return list(db.enrollments.find({\n",
    "        \"studentId\": student_id,\n",
    "        \"courseId\":  course_id\n",
    "    }))\n",
    "\n",
    "@timed(\" Enrollment lookup WITH compound index\")\n",
    "def fast_enroll_lookup():\n",
    "    return list(db.enrollments.find({\n",
    "        \"studentId\": student_id,\n",
    "        \"courseId\":  course_id\n",
    "    }).hint(\"idx_enrollment_student_course\"))\n",
    "\n",
    "slow_enroll_lookup()\n",
    "fast_enroll_lookup()\n"
   ]
  },
  {
   "cell_type": "markdown",
   "id": "097adeba",
   "metadata": {},
   "source": [
    "Part 6 – Data Validation & Error Handling"
   ]
  },
  {
   "cell_type": "code",
   "execution_count": null,
   "id": "1bc04dd8",
   "metadata": {},
   "outputs": [
    {
     "name": "stdout",
     "output_type": "stream",
     "text": [
      "💥 Validation error caught!\n",
      "'Document failed validation'\n"
     ]
    },
    {
     "name": "stderr",
     "output_type": "stream",
     "text": [
      "C:\\Users\\HP\\AppData\\Local\\Temp\\ipykernel_7572\\738357393.py:13: DeprecationWarning: datetime.datetime.utcnow() is deprecated and scheduled for removal in a future version. Use timezone-aware objects to represent datetimes in UTC: datetime.datetime.now(datetime.UTC).\n",
      "  \"createdAt\": datetime.utcnow(),\n"
     ]
    }
   ],
   "source": [
    "# 6  Schema Validation Recap i already added JSON schema validators (users, courses, etc.).\n",
    "#  Missing required field:  'title'\n",
    "bad_course = {\n",
    "    \"courseId\": \"BAD‑123\",\n",
    "    \"category\": \"data science\",\n",
    "    \"level\": \"beginner\",\n",
    "    \"price\": 75,\n",
    "    \"createdAt\": datetime.utcnow(),\n",
    "    \"isPublished\": False\n",
    "}\n",
    "\n",
    "try:\n",
    "    db.courses.insert_one(bad_course)\n",
    "except WriteError as e:\n",
    "    print(\" Validation error caught!\")\n",
    "    pprint(e.details[\"errmsg\"])\n",
    "\n",
    "\n",
    "\n",
    " # error handling\n",
    "\n",
    "def safe_add_user(user_doc):\n",
    "    try:\n",
    "        db.users.insert_one(user_doc)\n",
    "        print(\"User inserted.\")\n",
    "    except DuplicateKeyError:\n",
    "        print(\" Email already exists.\")\n",
    "    except WriteError as e:\n",
    "        print(\" Validation error:\", e.details[\"errmsg\"])\n",
    "\n",
    "def safe_update_progress(enrollment_id, new_progress):\n",
    "    try:\n",
    "        result = db.enrollments.update_one(\n",
    "            {\"enrollmentId\": enrollment_id},\n",
    "            {\"$set\": {\"progress\": float(new_progress)}}\n",
    "        )\n",
    "        if result.matched_count == 0:\n",
    "            print(\"No enrollment found.\")\n",
    "    except Exception as e:\n",
    "        print(\"Unexpected error:\", e)\n"
   ]
  }
 ],
 "metadata": {
  "kernelspec": {
   "display_name": "base",
   "language": "python",
   "name": "python3"
  },
  "language_info": {
   "codemirror_mode": {
    "name": "ipython",
    "version": 3
   },
   "file_extension": ".py",
   "mimetype": "text/x-python",
   "name": "python",
   "nbconvert_exporter": "python",
   "pygments_lexer": "ipython3",
   "version": "3.12.7"
  }
 },
 "nbformat": 4,
 "nbformat_minor": 5
}
